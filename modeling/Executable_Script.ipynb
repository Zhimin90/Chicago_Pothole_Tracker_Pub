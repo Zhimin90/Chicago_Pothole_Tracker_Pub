{
 "cells": [
  {
   "cell_type": "code",
   "execution_count": 1,
   "metadata": {},
   "outputs": [],
   "source": [
    "import linecache\n",
    "import os\n",
    "import tracemalloc\n",
    "\n",
    "def display_top(snapshot, key_type='lineno', limit=10):\n",
    "    snapshot = snapshot.filter_traces((\n",
    "        tracemalloc.Filter(False, \"<frozen importlib._bootstrap>\"),\n",
    "        tracemalloc.Filter(False, \"<unknown>\"),\n",
    "    ))\n",
    "    top_stats = snapshot.statistics(key_type)\n",
    "\n",
    "    print(\"Top %s lines\" % limit)\n",
    "    for index, stat in enumerate(top_stats[:limit], 1):\n",
    "        frame = stat.traceback[0]\n",
    "        print(\"#%s: %s:%s: %.1f MB\"\n",
    "              % (index, frame.filename, frame.lineno, stat.size / 1048576))\n",
    "        line = linecache.getline(frame.filename, frame.lineno).strip()\n",
    "        if line:\n",
    "            print('    %s' % line)\n",
    "\n",
    "    other = top_stats[limit:]\n",
    "    if other:\n",
    "        size = sum(stat.size for stat in other)\n",
    "        print(\"%s other: %.1f MB\" % (len(other), size / 1048576))\n",
    "    total = sum(stat.size for stat in top_stats)\n",
    "    print(\"Total allocated size: %.1f MB\" % (total / 1048576))\n",
    "\n",
    "tracemalloc.start()"
   ]
  },
  {
   "cell_type": "code",
   "execution_count": 2,
   "metadata": {},
   "outputs": [
    {
     "name": "stdout",
     "output_type": "stream",
     "text": [
      "Top 10 lines\n",
      "#1: /home/zhimin90/anaconda3/envs/venv/lib/python3.7/abc.py:143: 0.0 MB\n",
      "    return _abc_subclasscheck(cls, subclass)\n",
      "#2: /home/zhimin90/anaconda3/envs/venv/lib/python3.7/json/decoder.py:353: 0.0 MB\n",
      "    obj, end = self.scan_once(s, idx)\n",
      "#3: /home/zhimin90/anaconda3/envs/venv/lib/python3.7/site-packages/zmq/utils/jsonapi.py:43: 0.0 MB\n",
      "    s = s.encode('utf8')\n",
      "#4: /home/zhimin90/anaconda3/envs/venv/lib/python3.7/site-packages/zmq/sugar/socket.py:478: 0.0 MB\n",
      "    part = self.recv(flags, copy=copy, track=track)\n",
      "#5: /home/zhimin90/anaconda3/envs/venv/lib/python3.7/site-packages/traitlets/traitlets.py:536: 0.0 MB\n",
      "    obj._trait_values[self.name] = value\n",
      "#6: /home/zhimin90/anaconda3/envs/venv/lib/python3.7/site-packages/IPython/core/compilerop.py:101: 0.0 MB\n",
      "    return compile(source, filename, symbol, self.flags | PyCF_ONLY_AST, 1)\n",
      "#7: /home/zhimin90/anaconda3/envs/venv/lib/python3.7/enum.py:310: 0.0 MB\n",
      "    return cls.__new__(cls, value)\n",
      "#8: /home/zhimin90/anaconda3/envs/venv/lib/python3.7/site-packages/ipykernel/kernelbase.py:541: 0.0 MB\n",
      "    user_expressions, allow_stdin,\n",
      "#9: /home/zhimin90/anaconda3/envs/venv/lib/python3.7/site-packages/ipykernel/kernelbase.py:268: 0.0 MB\n",
      "    yield gen.maybe_future(handler(stream, idents, msg))\n",
      "#10: /home/zhimin90/anaconda3/envs/venv/lib/python3.7/site-packages/IPython/core/interactiveshell.py:244: 0.0 MB\n",
      "    file.softspace = newvalue\n",
      "88 other: 0.0 MB\n",
      "Total allocated size: 0.0 MB\n"
     ]
    }
   ],
   "source": [
    "snapshot = tracemalloc.take_snapshot()\n",
    "display_top(snapshot)"
   ]
  },
  {
   "cell_type": "code",
   "execution_count": 3,
   "metadata": {},
   "outputs": [
    {
     "name": "stdout",
     "output_type": "stream",
     "text": [
      "2020-02-24\n"
     ]
    },
    {
     "name": "stderr",
     "output_type": "stream",
     "text": [
      "/home/zhimin90/anaconda3/envs/venv/lib/python3.7/site-packages/ipykernel_launcher.py:7: FutureWarning: The pandas.datetime class is deprecated and will be removed from pandas in a future version. Import from datetime module instead.\n",
      "  import sys\n"
     ]
    },
    {
     "data": {
      "text/plain": [
       "'request_date > \"2020-02-24\"'"
      ]
     },
     "execution_count": 3,
     "metadata": {},
     "output_type": "execute_result"
    }
   ],
   "source": [
    "from datetime import timedelta, date\n",
    "from dateutil.relativedelta import relativedelta\n",
    "\n",
    "import pandas as pd\n",
    "import numpy as np\n",
    "\n",
    "previous_30days_date = (pd.datetime.now()- timedelta(days=30)).strftime('%Y-%m-%d')\n",
    "print(previous_30days_date)\n",
    "\"request_date > \\\"\" + str(previous_30days_date)+\"\\\"\""
   ]
  },
  {
   "cell_type": "code",
   "execution_count": 4,
   "metadata": {},
   "outputs": [
    {
     "name": "stderr",
     "output_type": "stream",
     "text": [
      "WARNING:root:Requests made without an app_token will be subject to strict throttling limits.\n"
     ]
    }
   ],
   "source": [
    "CSV_PATH = \"/home/zhimin90/CPT/CSVs/\"\n",
    "\n",
    "from sodapy import Socrata\n",
    "\n",
    "import dill\n",
    "from sklearn.preprocessing import MinMaxScaler,StandardScaler\n",
    "from KDEpy import FFTKDE, NaiveKDE\n",
    "\n",
    "client = Socrata(\"data.cityofchicago.org\", None)\n",
    "results = client.get(\"wqdh-9gek\",order=\"request_date DESC\",where=\"request_date > \\\"\" + str(previous_30days_date)+\"\\\"\", limit=100000)\n",
    "\n",
    "# Convert to pandas DataFrame\n",
    "results_df = pd.DataFrame.from_records(results)\n"
   ]
  },
  {
   "cell_type": "code",
   "execution_count": 5,
   "metadata": {},
   "outputs": [
    {
     "name": "stdout",
     "output_type": "stream",
     "text": [
      "Top 10 lines\n",
      "#1: <frozen importlib._bootstrap_external>:525: 23.4 MB\n",
      "#2: /home/zhimin90/anaconda3/envs/venv/lib/python3.7/json/decoder.py:353: 3.8 MB\n",
      "    obj, end = self.scan_once(s, idx)\n",
      "#3: /home/zhimin90/anaconda3/envs/venv/lib/python3.7/linecache.py:137: 0.8 MB\n",
      "    lines = fp.readlines()\n",
      "#4: /home/zhimin90/anaconda3/envs/venv/lib/python3.7/site-packages/scipy/_lib/doccer.py:68: 0.5 MB\n",
      "    return docstring % indented\n",
      "#5: /home/zhimin90/anaconda3/envs/venv/lib/python3.7/site-packages/scipy/stats/_distn_infrastructure.py:690: 0.3 MB\n",
      "    exec_(parse_arg_template % dct, ns)\n",
      "#6: /home/zhimin90/anaconda3/envs/venv/lib/python3.7/site-packages/numpy/core/overrides.py:181: 0.3 MB\n",
      "    source, filename='<__array_function__ internals>', mode='exec')\n",
      "#7: /home/zhimin90/anaconda3/envs/venv/lib/python3.7/re.py:192: 0.3 MB\n",
      "    return _compile(pattern, flags).sub(repl, string, count)\n",
      "#8: <frozen importlib._bootstrap_external>:59: 0.2 MB\n",
      "#9: /home/zhimin90/anaconda3/envs/venv/lib/python3.7/functools.py:60: 0.2 MB\n",
      "    getattr(wrapper, attr).update(getattr(wrapped, attr, {}))\n",
      "#10: /home/zhimin90/anaconda3/envs/venv/lib/python3.7/site-packages/pandas/util/_decorators.py:290: 0.2 MB\n",
      "    func.__doc__ = func.__doc__ and func.__doc__ % self.params\n",
      "20294 other: 13.3 MB\n",
      "Total allocated size: 43.3 MB\n"
     ]
    }
   ],
   "source": [
    "# ... run your application ...\n",
    "snapshot = tracemalloc.take_snapshot()\n",
    "display_top(snapshot)"
   ]
  },
  {
   "cell_type": "code",
   "execution_count": 6,
   "metadata": {},
   "outputs": [],
   "source": [
    "test_df = results_df\n",
    "test_df.columns = pd.Series(test_df.columns).apply(lambda x: x.upper()).values\n",
    "xbound = (-87.9361,-87.5245)\n",
    "ybound = (41.6447,42.023)\n",
    "test_df = test_df[test_df.LATITUDE.notna()].sort_values(['REQUEST_DATE','COMPLETION_DATE'], ascending=[0,0])\n",
    "test_df['REQUEST_DATE'] = pd.to_datetime(test_df['REQUEST_DATE'])\n",
    "test_df['COMPLETION_DATE'] = pd.to_datetime(test_df['COMPLETION_DATE'])\n",
    "test_df['LATITUDE'] = pd.to_numeric(test_df['LATITUDE'])\n",
    "test_df['LONGITUDE'] = pd.to_numeric(test_df['LONGITUDE'])\n",
    "df = test_df"
   ]
  },
  {
   "cell_type": "code",
   "execution_count": 7,
   "metadata": {},
   "outputs": [
    {
     "name": "stdout",
     "output_type": "stream",
     "text": [
      "Top 10 lines\n",
      "#1: <frozen importlib._bootstrap_external>:525: 23.4 MB\n",
      "#2: /home/zhimin90/anaconda3/envs/venv/lib/python3.7/json/decoder.py:353: 3.8 MB\n",
      "    obj, end = self.scan_once(s, idx)\n",
      "#3: /home/zhimin90/anaconda3/envs/venv/lib/python3.7/linecache.py:137: 1.3 MB\n",
      "    lines = fp.readlines()\n",
      "#4: /home/zhimin90/anaconda3/envs/venv/lib/python3.7/site-packages/scipy/_lib/doccer.py:68: 0.5 MB\n",
      "    return docstring % indented\n",
      "#5: /home/zhimin90/anaconda3/envs/venv/lib/python3.7/site-packages/scipy/stats/_distn_infrastructure.py:690: 0.3 MB\n",
      "    exec_(parse_arg_template % dct, ns)\n",
      "#6: /home/zhimin90/anaconda3/envs/venv/lib/python3.7/site-packages/numpy/core/overrides.py:181: 0.3 MB\n",
      "    source, filename='<__array_function__ internals>', mode='exec')\n",
      "#7: /home/zhimin90/anaconda3/envs/venv/lib/python3.7/re.py:192: 0.3 MB\n",
      "    return _compile(pattern, flags).sub(repl, string, count)\n",
      "#8: <frozen importlib._bootstrap_external>:59: 0.2 MB\n",
      "#9: /home/zhimin90/anaconda3/envs/venv/lib/python3.7/functools.py:60: 0.2 MB\n",
      "    getattr(wrapper, attr).update(getattr(wrapped, attr, {}))\n",
      "#10: /home/zhimin90/anaconda3/envs/venv/lib/python3.7/site-packages/pandas/util/_decorators.py:290: 0.2 MB\n",
      "    func.__doc__ = func.__doc__ and func.__doc__ % self.params\n",
      "20545 other: 13.9 MB\n",
      "Total allocated size: 44.5 MB\n"
     ]
    }
   ],
   "source": [
    "snapshot = tracemalloc.take_snapshot()\n",
    "display_top(snapshot)"
   ]
  },
  {
   "cell_type": "code",
   "execution_count": 8,
   "metadata": {},
   "outputs": [],
   "source": [
    "map_arr = []\n",
    "interval_int = 30 #use 30 days data to predict next 7 days\n",
    "series_range = 7 #days\n",
    "time_interval = timedelta(days=interval_int)\n",
    "date_start = min(df['REQUEST_DATE'])\n",
    "date_end = max(df['REQUEST_DATE'])\n",
    "\n",
    "geo_price_map = df[['REQUEST_DATE', 'COMPLETION_DATE','LATITUDE', 'LONGITUDE']]"
   ]
  },
  {
   "cell_type": "code",
   "execution_count": 9,
   "metadata": {},
   "outputs": [
    {
     "name": "stdout",
     "output_type": "stream",
     "text": [
      "sum of remaining is: 3358\n"
     ]
    }
   ],
   "source": [
    "filter1a = pd.to_numeric(geo_price_map[\"LONGITUDE\"]) > xbound[0]\n",
    "filter1b = pd.to_numeric(geo_price_map[\"LONGITUDE\"]) < xbound[1]\n",
    "filter1c = pd.to_numeric(geo_price_map[\"LATITUDE\"]) > ybound[0]\n",
    "filter1d = pd.to_numeric(geo_price_map[\"LATITUDE\"]) < ybound[1]\n",
    "print(\"sum of remaining is: \" + str(sum(filter1a&filter1b&filter1c&filter1d)))\n",
    "geo_price_map = geo_price_map[filter1a&filter1b&filter1c&filter1d]"
   ]
  },
  {
   "cell_type": "code",
   "execution_count": 10,
   "metadata": {},
   "outputs": [
    {
     "name": "stdout",
     "output_type": "stream",
     "text": [
      "Top 10 lines\n",
      "#1: <frozen importlib._bootstrap_external>:525: 23.4 MB\n",
      "#2: /home/zhimin90/anaconda3/envs/venv/lib/python3.7/json/decoder.py:353: 3.8 MB\n",
      "    obj, end = self.scan_once(s, idx)\n",
      "#3: /home/zhimin90/anaconda3/envs/venv/lib/python3.7/linecache.py:137: 1.3 MB\n",
      "    lines = fp.readlines()\n",
      "#4: /home/zhimin90/anaconda3/envs/venv/lib/python3.7/site-packages/scipy/_lib/doccer.py:68: 0.5 MB\n",
      "    return docstring % indented\n",
      "#5: /home/zhimin90/anaconda3/envs/venv/lib/python3.7/tracemalloc.py:65: 0.3 MB\n",
      "    return (self.size, self.count, self.traceback)\n",
      "#6: /home/zhimin90/anaconda3/envs/venv/lib/python3.7/site-packages/scipy/stats/_distn_infrastructure.py:690: 0.3 MB\n",
      "    exec_(parse_arg_template % dct, ns)\n",
      "#7: /home/zhimin90/anaconda3/envs/venv/lib/python3.7/site-packages/numpy/core/overrides.py:181: 0.3 MB\n",
      "    source, filename='<__array_function__ internals>', mode='exec')\n",
      "#8: /home/zhimin90/anaconda3/envs/venv/lib/python3.7/re.py:192: 0.3 MB\n",
      "    return _compile(pattern, flags).sub(repl, string, count)\n",
      "#9: <frozen importlib._bootstrap_external>:59: 0.2 MB\n",
      "#10: /home/zhimin90/anaconda3/envs/venv/lib/python3.7/tracemalloc.py:185: 0.2 MB\n",
      "    self._frames = tuple(reversed(frames))\n",
      "20600 other: 14.3 MB\n",
      "Total allocated size: 45.0 MB\n"
     ]
    }
   ],
   "source": [
    "snapshot = tracemalloc.take_snapshot()\n",
    "display_top(snapshot)"
   ]
  },
  {
   "cell_type": "code",
   "execution_count": 11,
   "metadata": {},
   "outputs": [
    {
     "name": "stdout",
     "output_type": "stream",
     "text": [
      "2020-02-22 14:59:13\n",
      "2020-03-23 14:59:13\n",
      "pothole count: 3358\n",
      "____________________\n"
     ]
    }
   ],
   "source": [
    "for int_cur_date in range(0, 7, int(series_range)):\n",
    "    geo_price_map_filtered = geo_price_map[geo_price_map['LONGITUDE'].notnull()]\n",
    "    \n",
    "    filter2 = geo_price_map_filtered['REQUEST_DATE'] > (date_end - timedelta(days=int_cur_date+interval_int))\n",
    "    filter3 = geo_price_map_filtered['REQUEST_DATE'] <= (date_end -  timedelta(days=int_cur_date))\n",
    "    \n",
    "    print(date_end - timedelta(days=int_cur_date+interval_int))\n",
    "    print(date_end -  timedelta(days=int_cur_date))\n",
    "    \n",
    "    geo_price_map_filtered = geo_price_map_filtered.where(filter2 & filter3)\n",
    "    print(\"pothole count: \" + str(len(geo_price_map_filtered.notnull().index)))\n",
    "    print(\"_\"*20)\n",
    "    map_arr.append(geo_price_map_filtered)"
   ]
  },
  {
   "cell_type": "code",
   "execution_count": 12,
   "metadata": {},
   "outputs": [],
   "source": [
    "map_arr.reverse()\n",
    "pothole_count = []\n",
    "for df in map_arr:\n",
    "    pothole_count.append(df.count())"
   ]
  },
  {
   "cell_type": "code",
   "execution_count": 13,
   "metadata": {},
   "outputs": [
    {
     "name": "stdout",
     "output_type": "stream",
     "text": [
      "Top 10 lines\n",
      "#1: <frozen importlib._bootstrap_external>:525: 23.4 MB\n",
      "#2: /home/zhimin90/anaconda3/envs/venv/lib/python3.7/json/decoder.py:353: 3.8 MB\n",
      "    obj, end = self.scan_once(s, idx)\n",
      "#3: /home/zhimin90/anaconda3/envs/venv/lib/python3.7/linecache.py:137: 1.3 MB\n",
      "    lines = fp.readlines()\n",
      "#4: /home/zhimin90/anaconda3/envs/venv/lib/python3.7/site-packages/scipy/_lib/doccer.py:68: 0.5 MB\n",
      "    return docstring % indented\n",
      "#5: /home/zhimin90/anaconda3/envs/venv/lib/python3.7/tracemalloc.py:65: 0.3 MB\n",
      "    return (self.size, self.count, self.traceback)\n",
      "#6: /home/zhimin90/anaconda3/envs/venv/lib/python3.7/site-packages/scipy/stats/_distn_infrastructure.py:690: 0.3 MB\n",
      "    exec_(parse_arg_template % dct, ns)\n",
      "#7: /home/zhimin90/anaconda3/envs/venv/lib/python3.7/site-packages/numpy/core/overrides.py:181: 0.3 MB\n",
      "    source, filename='<__array_function__ internals>', mode='exec')\n",
      "#8: /home/zhimin90/anaconda3/envs/venv/lib/python3.7/re.py:192: 0.3 MB\n",
      "    return _compile(pattern, flags).sub(repl, string, count)\n",
      "#9: <frozen importlib._bootstrap_external>:59: 0.2 MB\n",
      "#10: /home/zhimin90/anaconda3/envs/venv/lib/python3.7/tracemalloc.py:185: 0.2 MB\n",
      "    self._frames = tuple(reversed(frames))\n",
      "20708 other: 14.5 MB\n",
      "Total allocated size: 45.2 MB\n"
     ]
    }
   ],
   "source": [
    "snapshot = tracemalloc.take_snapshot()\n",
    "display_top(snapshot)"
   ]
  },
  {
   "cell_type": "code",
   "execution_count": 14,
   "metadata": {},
   "outputs": [],
   "source": [
    "def get_kde( x, y, xmin, xmax, ymin, ymax, xx, yy, positions):\n",
    "\n",
    "    values = np.array([x, y]).T\n",
    "    #values = values.reshape(values.shape[1], values.shape[0])\n",
    "    #print(\"values is: \" + str(values))\n",
    "    #grid, points = get_kernel(values)\n",
    "    points = get_kernel(values, positions)\n",
    "    #kernel.set_bandwidth(bw_method=kernel.factor / 30.)\n",
    "    f = np.reshape(points, xx.shape)\n",
    "    #print(points.shape)\n",
    "    #print(grid)\n",
    "    #return grid, f\n",
    "    return f\n",
    "\n",
    "def get_kernel(data, positions):\n",
    "    #print(data.shape)\n",
    "    #print(data)\n",
    "    estimator = FFTKDE(kernel='gaussian', norm=2, bw=0.001)\n",
    "    #grid, points = estimator.fit(data, weights=None).evaluate(grid_size)\n",
    "    points = estimator.fit(data, weights=None).evaluate(positions)\n",
    "    #grid, points = estimator.fit(data, weights=None).evaluate(grid_size)\n",
    "    #kernel = gaussian_kde(dataset=values, bw_method=\"silverman\" )\n",
    "    #return grid, points\n",
    "    return points"
   ]
  },
  {
   "cell_type": "code",
   "execution_count": 15,
   "metadata": {},
   "outputs": [],
   "source": [
    "grid_size = 1000\n",
    "density_matrix_t_series = []\n",
    "# Define the borders\n",
    "x = [-87.9361,-87.5245]\n",
    "y = [41.6447,42.023]\n",
    "deltaX = (max(x) - min(x))/10\n",
    "deltaY = (max(y) - min(y))/10\n",
    "xmin = min(x) - deltaX\n",
    "xmax = max(x) + deltaX\n",
    "ymin = min(y) - deltaY\n",
    "ymax = max(y) + deltaY\n",
    "\n",
    "xx, yy = np.mgrid[xmin:xmax:(grid_size*1j), ymin:ymax:(grid_size*1j)]\n",
    "positions = np.dstack([xx.ravel(), yy.ravel()])\n",
    "positions = positions.reshape(positions.shape[1], positions.shape[2])\n",
    "grid_matrix = positions"
   ]
  },
  {
   "cell_type": "code",
   "execution_count": 16,
   "metadata": {},
   "outputs": [
    {
     "data": {
      "text/plain": [
       "(3358, 4)"
      ]
     },
     "execution_count": 16,
     "metadata": {},
     "output_type": "execute_result"
    }
   ],
   "source": [
    "map_arr[-1].shape"
   ]
  },
  {
   "cell_type": "code",
   "execution_count": 17,
   "metadata": {},
   "outputs": [
    {
     "name": "stdout",
     "output_type": "stream",
     "text": [
      "@0\n"
     ]
    }
   ],
   "source": [
    "for i, df in enumerate(map_arr):\n",
    "    if df[\"LONGITUDE\"].count() > 400:\n",
    "        #grid, points = get_kde(df[\"LONGITUDE\"].dropna().to_numpy(), df[\"LATITUDE\"].dropna().to_numpy() , xmin, xmax, ymin, ymax, xx, yy, positions)\n",
    "        points = get_kde(df[\"LONGITUDE\"].dropna().to_numpy(), df[\"LATITUDE\"].dropna().to_numpy() , xmin, xmax, ymin, ymax, xx, yy, positions)\n",
    "        density_matrix_t_series.append(points)\n",
    "        print(\"@\" + str(i))"
   ]
  },
  {
   "cell_type": "code",
   "execution_count": 18,
   "metadata": {},
   "outputs": [
    {
     "name": "stdout",
     "output_type": "stream",
     "text": [
      "Top 10 lines\n",
      "#1: <frozen importlib._bootstrap_external>:525: 23.4 MB\n",
      "#2: <__array_function__ internals>:6: 15.3 MB\n",
      "#3: /home/zhimin90/anaconda3/envs/venv/lib/python3.7/site-packages/numpy/core/numeric.py:1713: 15.3 MB\n",
      "    res = empty((N,)+dimensions, dtype=dtype)\n",
      "#4: /home/zhimin90/anaconda3/envs/venv/lib/python3.7/site-packages/KDEpy/BaseKDE.py:212: 7.6 MB\n",
      "    evaluated = evaluated.ravel() + np.finfo(float).eps\n",
      "#5: /home/zhimin90/anaconda3/envs/venv/lib/python3.7/json/decoder.py:353: 3.8 MB\n",
      "    obj, end = self.scan_once(s, idx)\n",
      "#6: /home/zhimin90/anaconda3/envs/venv/lib/python3.7/linecache.py:137: 1.3 MB\n",
      "    lines = fp.readlines()\n",
      "#7: /home/zhimin90/anaconda3/envs/venv/lib/python3.7/site-packages/scipy/_lib/doccer.py:68: 0.5 MB\n",
      "    return docstring % indented\n",
      "#8: /home/zhimin90/anaconda3/envs/venv/lib/python3.7/tracemalloc.py:65: 0.3 MB\n",
      "    return (self.size, self.count, self.traceback)\n",
      "#9: /home/zhimin90/anaconda3/envs/venv/lib/python3.7/site-packages/scipy/stats/_distn_infrastructure.py:690: 0.3 MB\n",
      "    exec_(parse_arg_template % dct, ns)\n",
      "#10: /home/zhimin90/anaconda3/envs/venv/lib/python3.7/site-packages/numpy/core/overrides.py:181: 0.3 MB\n",
      "    source, filename='<__array_function__ internals>', mode='exec')\n",
      "20894 other: 15.4 MB\n",
      "Total allocated size: 83.5 MB\n"
     ]
    }
   ],
   "source": [
    "snapshot = tracemalloc.take_snapshot()\n",
    "display_top(snapshot)"
   ]
  },
  {
   "cell_type": "code",
   "execution_count": 19,
   "metadata": {},
   "outputs": [],
   "source": [
    "s = round(len(density_matrix_t_series)*0)"
   ]
  },
  {
   "cell_type": "code",
   "execution_count": 20,
   "metadata": {},
   "outputs": [],
   "source": [
    "f_in = open(CSV_PATH +'Scalers_2020.pkl', \"rb\")\n",
    "scaler,scaler2 = dill.load(f_in)\n",
    "f_in.close()\n",
    "\n",
    "dm_series_np = np.array(density_matrix_t_series[s:])\n",
    "flattened_matrix_np = np.reshape(dm_series_np, (dm_series_np.shape[0]*dm_series_np.shape[1], dm_series_np.shape[2]))\n",
    "\n",
    "normalized_matrices_test = scaler2.transform(scaler.transform(flattened_matrix_np))\n",
    "y_test2 = normalized_matrices_test"
   ]
  },
  {
   "cell_type": "code",
   "execution_count": 21,
   "metadata": {},
   "outputs": [
    {
     "name": "stdout",
     "output_type": "stream",
     "text": [
      "Top 10 lines\n",
      "#1: <frozen importlib._bootstrap_external>:525: 23.4 MB\n",
      "#2: <__array_function__ internals>:6: 15.3 MB\n",
      "#3: /home/zhimin90/anaconda3/envs/venv/lib/python3.7/site-packages/numpy/core/numeric.py:1713: 15.3 MB\n",
      "    res = empty((N,)+dimensions, dtype=dtype)\n",
      "#4: <ipython-input-20-3ec23eaf0a17>:5: 7.6 MB\n",
      "    dm_series_np = np.array(density_matrix_t_series[s:])\n",
      "#5: /home/zhimin90/anaconda3/envs/venv/lib/python3.7/site-packages/sklearn/utils/validation.py:602: 7.6 MB\n",
      "    array = np.array(array, dtype=dtype, order=order)\n",
      "#6: /home/zhimin90/anaconda3/envs/venv/lib/python3.7/site-packages/KDEpy/BaseKDE.py:212: 7.6 MB\n",
      "    evaluated = evaluated.ravel() + np.finfo(float).eps\n",
      "#7: /home/zhimin90/anaconda3/envs/venv/lib/python3.7/json/decoder.py:353: 3.8 MB\n",
      "    obj, end = self.scan_once(s, idx)\n",
      "#8: /home/zhimin90/anaconda3/envs/venv/lib/python3.7/linecache.py:137: 1.5 MB\n",
      "    lines = fp.readlines()\n",
      "#9: /home/zhimin90/anaconda3/envs/venv/lib/python3.7/site-packages/scipy/_lib/doccer.py:68: 0.5 MB\n",
      "    return docstring % indented\n",
      "#10: /home/zhimin90/anaconda3/envs/venv/lib/python3.7/tracemalloc.py:65: 0.3 MB\n",
      "    return (self.size, self.count, self.traceback)\n",
      "20903 other: 16.0 MB\n",
      "Total allocated size: 99.0 MB\n"
     ]
    }
   ],
   "source": [
    "snapshot = tracemalloc.take_snapshot()\n",
    "display_top(snapshot)"
   ]
  },
  {
   "cell_type": "code",
   "execution_count": 22,
   "metadata": {},
   "outputs": [],
   "source": [
    "import tensorflow.keras as keras\n",
    "with open(CSV_PATH + 'TensorFlowModel_2020_train_save_model_config.json') as json_file:\n",
    "        json_config = json_file.read()\n",
    "model = keras.models.model_from_json(json_config)\n",
    "model.load_weights(CSV_PATH + 'TensorFlowModel_2020_train_save_my_weights.h5')"
   ]
  },
  {
   "cell_type": "code",
   "execution_count": 23,
   "metadata": {},
   "outputs": [
    {
     "name": "stdout",
     "output_type": "stream",
     "text": [
      "Top 10 lines\n",
      "#1: /home/zhimin90/anaconda3/envs/venv/lib/python3.7/site-packages/h5py/_hl/dataset.py:766: 99.6 MB\n",
      "    arr = numpy.empty(self.shape, dtype=self.dtype if dtype is None else dtype)\n",
      "#2: <frozen importlib._bootstrap_external>:525: 55.0 MB\n",
      "#3: <__array_function__ internals>:6: 15.3 MB\n",
      "#4: /home/zhimin90/anaconda3/envs/venv/lib/python3.7/site-packages/numpy/core/numeric.py:1713: 15.3 MB\n",
      "    res = empty((N,)+dimensions, dtype=dtype)\n",
      "#5: <ipython-input-20-3ec23eaf0a17>:5: 7.6 MB\n",
      "    dm_series_np = np.array(density_matrix_t_series[s:])\n",
      "#6: /home/zhimin90/anaconda3/envs/venv/lib/python3.7/site-packages/sklearn/utils/validation.py:602: 7.6 MB\n",
      "    array = np.array(array, dtype=dtype, order=order)\n",
      "#7: /home/zhimin90/anaconda3/envs/venv/lib/python3.7/site-packages/KDEpy/BaseKDE.py:212: 7.6 MB\n",
      "    evaluated = evaluated.ravel() + np.finfo(float).eps\n",
      "#8: /home/zhimin90/anaconda3/envs/venv/lib/python3.7/json/decoder.py:353: 3.8 MB\n",
      "    obj, end = self.scan_once(s, idx)\n",
      "#9: /home/zhimin90/anaconda3/envs/venv/lib/python3.7/linecache.py:137: 2.1 MB\n",
      "    lines = fp.readlines()\n",
      "#10: <frozen importlib._bootstrap_external>:59: 1.0 MB\n",
      "52767 other: 41.7 MB\n",
      "Total allocated size: 256.7 MB\n"
     ]
    }
   ],
   "source": [
    "snapshot = tracemalloc.take_snapshot()\n",
    "display_top(snapshot)"
   ]
  },
  {
   "cell_type": "code",
   "execution_count": 24,
   "metadata": {},
   "outputs": [],
   "source": [
    "Last_time_frame = y_test2"
   ]
  },
  {
   "cell_type": "code",
   "execution_count": 25,
   "metadata": {},
   "outputs": [
    {
     "name": "stdout",
     "output_type": "stream",
     "text": [
      "(1, 1000, 1000)\n"
     ]
    }
   ],
   "source": [
    "pred = model.predict(np.reshape(Last_time_frame,(Last_time_frame.shape[0],1,Last_time_frame.shape[1])))\n",
    "data = scaler.inverse_transform(scaler2.inverse_transform(pred))\n",
    "data_reshaped = data.reshape((int(data.shape[0]/data.shape[1]), data.shape[1], data.shape[1]))\n",
    "print(data_reshaped.shape)"
   ]
  },
  {
   "cell_type": "code",
   "execution_count": 26,
   "metadata": {},
   "outputs": [
    {
     "name": "stdout",
     "output_type": "stream",
     "text": [
      "Top 10 lines\n",
      "#1: /home/zhimin90/anaconda3/envs/venv/lib/python3.7/site-packages/h5py/_hl/dataset.py:766: 99.6 MB\n",
      "    arr = numpy.empty(self.shape, dtype=self.dtype if dtype is None else dtype)\n",
      "#2: <frozen importlib._bootstrap_external>:525: 55.0 MB\n",
      "#3: <__array_function__ internals>:6: 15.3 MB\n",
      "#4: /home/zhimin90/anaconda3/envs/venv/lib/python3.7/site-packages/numpy/core/numeric.py:1713: 15.3 MB\n",
      "    res = empty((N,)+dimensions, dtype=dtype)\n",
      "#5: <ipython-input-20-3ec23eaf0a17>:5: 7.6 MB\n",
      "    dm_series_np = np.array(density_matrix_t_series[s:])\n",
      "#6: /home/zhimin90/anaconda3/envs/venv/lib/python3.7/site-packages/sklearn/utils/validation.py:602: 7.6 MB\n",
      "    array = np.array(array, dtype=dtype, order=order)\n",
      "#7: /home/zhimin90/anaconda3/envs/venv/lib/python3.7/site-packages/KDEpy/BaseKDE.py:212: 7.6 MB\n",
      "    evaluated = evaluated.ravel() + np.finfo(float).eps\n",
      "#8: /home/zhimin90/anaconda3/envs/venv/lib/python3.7/json/decoder.py:353: 3.8 MB\n",
      "    obj, end = self.scan_once(s, idx)\n",
      "#9: /home/zhimin90/anaconda3/envs/venv/lib/python3.7/site-packages/tensorflow_core/python/keras/engine/training_utils.py:258: 3.8 MB\n",
      "    self.results = np.empty(shape=shape, dtype=dtype)\n",
      "#10: /home/zhimin90/anaconda3/envs/venv/lib/python3.7/site-packages/sklearn/preprocessing/_data.py:844: 3.8 MB\n",
      "    X = X.copy()\n",
      "53239 other: 46.6 MB\n",
      "Total allocated size: 266.1 MB\n"
     ]
    }
   ],
   "source": [
    "snapshot = tracemalloc.take_snapshot()\n",
    "display_top(snapshot)"
   ]
  },
  {
   "cell_type": "code",
   "execution_count": 27,
   "metadata": {},
   "outputs": [],
   "source": [
    "start_frame_date = min(map_arr[-1]['REQUEST_DATE'][map_arr[-1]['REQUEST_DATE'].notna()])\n",
    "end_frame_date = max(map_arr[-1]['REQUEST_DATE'][map_arr[-1]['REQUEST_DATE'].notna()])\n",
    "time_shift = 7 #days"
   ]
  },
  {
   "cell_type": "code",
   "execution_count": 28,
   "metadata": {},
   "outputs": [
    {
     "name": "stdout",
     "output_type": "stream",
     "text": [
      "offset = yy.shape[0]1000\n",
      "xdelta0.0004944144144189977\n",
      "ydelta0.0004544144144134066\n"
     ]
    }
   ],
   "source": [
    "offset = yy.shape[0]\n",
    "print(\"offset = yy.shape[0]\" + str(offset))\n",
    "xx = xx.ravel()\n",
    "yy = yy.ravel()\n",
    "xdelta = abs(xx[1] - xx[1+offset])\n",
    "ydelta = abs(yy[0] - yy[1+offset])\n",
    "print(\"xdelta\"+str(xdelta))\n",
    "print(\"ydelta\"+str(ydelta))\n",
    "columns = [ 'start_date', 'end_date', 'poly_coordinate', 'density']"
   ]
  },
  {
   "cell_type": "code",
   "execution_count": 29,
   "metadata": {},
   "outputs": [],
   "source": [
    "import rasterio\n",
    "import pprint"
   ]
  },
  {
   "cell_type": "code",
   "execution_count": 30,
   "metadata": {},
   "outputs": [
    {
     "data": {
      "text/plain": [
       "(-87.97726, 41.60687, -87.48334, 42.06083)"
      ]
     },
     "execution_count": 30,
     "metadata": {},
     "output_type": "execute_result"
    }
   ],
   "source": [
    "min(xx), min(yy), max(xx), max(yy)"
   ]
  },
  {
   "cell_type": "code",
   "execution_count": 32,
   "metadata": {},
   "outputs": [],
   "source": [
    "from rasterio.transform import Affine\n",
    "\n",
    "res = (xx[-1] - xx[0]) / 1000.0"
   ]
  },
  {
   "cell_type": "code",
   "execution_count": 33,
   "metadata": {},
   "outputs": [],
   "source": [
    "from shapely.geometry import shape\n",
    "from shapely.geometry import Polygon"
   ]
  },
  {
   "cell_type": "code",
   "execution_count": 62,
   "metadata": {},
   "outputs": [],
   "source": [
    "Matrix = np.rot90(np.flip(data_reshaped[0],1))\n",
    "max_density = np.max(Matrix)\n",
    "min_density = np.min(Matrix)\n",
    "Matrix = ((Matrix-min_density).astype(int)*25/(max_density - min_density)).astype('int32')\n",
    "Z = Matrix*10"
   ]
  },
  {
   "cell_type": "code",
   "execution_count": 63,
   "metadata": {},
   "outputs": [
    {
     "data": {
      "text/plain": [
       "Affine(0.0004939200000000028, 0.0, -87.97726,\n",
       "       0.0, 0.00045396000000000217, 41.60687)"
      ]
     },
     "execution_count": 63,
     "metadata": {},
     "output_type": "execute_result"
    }
   ],
   "source": [
    "transform = rasterio.transform.from_bounds(min(xx), max(yy), max(xx), min(yy), Z.shape[1], Z.shape[0])\n",
    "transform"
   ]
  },
  {
   "cell_type": "code",
   "execution_count": 64,
   "metadata": {},
   "outputs": [],
   "source": [
    "from rasterio import features\n",
    "\n",
    "results = ({'properties': {'raster_val': v}, 'geometry': s,'start_date':pd.to_datetime(start_frame_date) + timedelta(days=(time_shift*(1))),'end_date':pd.to_datetime(end_frame_date) + timedelta(days=(time_shift*(1)))}\n",
    "        for i, (s, v)\n",
    "        in enumerate(rasterio.features.shapes(Z,transform=transform)))"
   ]
  },
  {
   "cell_type": "code",
   "execution_count": 65,
   "metadata": {},
   "outputs": [],
   "source": [
    "geoms = list(results)"
   ]
  },
  {
   "cell_type": "code",
   "execution_count": 66,
   "metadata": {},
   "outputs": [
    {
     "data": {
      "text/plain": [
       "{'properties': {'raster_val': 30.0},\n",
       " 'geometry': {'type': 'Polygon',\n",
       "  'coordinates': [[(-87.7228912, 41.64863432),\n",
       "    (-87.7228912, 41.64908828),\n",
       "    (-87.71943376, 41.64908828),\n",
       "    (-87.71943376, 41.64863432),\n",
       "    (-87.7228912, 41.64863432)]]},\n",
       " 'start_date': Timestamp('2020-03-02 01:42:18'),\n",
       " 'end_date': Timestamp('2020-03-30 14:59:13')}"
      ]
     },
     "execution_count": 66,
     "metadata": {},
     "output_type": "execute_result"
    }
   ],
   "source": [
    "geoms[0]"
   ]
  },
  {
   "cell_type": "code",
   "execution_count": 67,
   "metadata": {},
   "outputs": [],
   "source": [
    "import geopandas as gp\n",
    "gpd_polygonized_raster  = gp.GeoDataFrame.from_features(geoms)"
   ]
  },
  {
   "cell_type": "code",
   "execution_count": 68,
   "metadata": {},
   "outputs": [
    {
     "data": {
      "text/html": [
       "<div>\n",
       "<style scoped>\n",
       "    .dataframe tbody tr th:only-of-type {\n",
       "        vertical-align: middle;\n",
       "    }\n",
       "\n",
       "    .dataframe tbody tr th {\n",
       "        vertical-align: top;\n",
       "    }\n",
       "\n",
       "    .dataframe thead th {\n",
       "        text-align: right;\n",
       "    }\n",
       "</style>\n",
       "<table border=\"1\" class=\"dataframe\">\n",
       "  <thead>\n",
       "    <tr style=\"text-align: right;\">\n",
       "      <th></th>\n",
       "      <th>geometry</th>\n",
       "      <th>raster_val</th>\n",
       "    </tr>\n",
       "  </thead>\n",
       "  <tbody>\n",
       "    <tr>\n",
       "      <th>0</th>\n",
       "      <td>POLYGON ((-87.72289 41.64863, -87.72289 41.649...</td>\n",
       "      <td>30.0</td>\n",
       "    </tr>\n",
       "    <tr>\n",
       "      <th>1</th>\n",
       "      <td>POLYGON ((-87.71499 41.64863, -87.71499 41.649...</td>\n",
       "      <td>30.0</td>\n",
       "    </tr>\n",
       "    <tr>\n",
       "      <th>2</th>\n",
       "      <td>POLYGON ((-87.69079 41.64863, -87.69079 41.649...</td>\n",
       "      <td>30.0</td>\n",
       "    </tr>\n",
       "    <tr>\n",
       "      <th>3</th>\n",
       "      <td>POLYGON ((-87.69029 41.65000, -87.69029 41.650...</td>\n",
       "      <td>30.0</td>\n",
       "    </tr>\n",
       "    <tr>\n",
       "      <th>4</th>\n",
       "      <td>POLYGON ((-87.68041 41.65000, -87.68041 41.650...</td>\n",
       "      <td>30.0</td>\n",
       "    </tr>\n",
       "    <tr>\n",
       "      <th>...</th>\n",
       "      <td>...</td>\n",
       "      <td>...</td>\n",
       "    </tr>\n",
       "    <tr>\n",
       "      <th>7400</th>\n",
       "      <td>POLYGON ((-87.80735 42.02134, -87.80735 42.021...</td>\n",
       "      <td>30.0</td>\n",
       "    </tr>\n",
       "    <tr>\n",
       "      <th>7401</th>\n",
       "      <td>POLYGON ((-87.69968 42.02134, -87.69968 42.021...</td>\n",
       "      <td>30.0</td>\n",
       "    </tr>\n",
       "    <tr>\n",
       "      <th>7402</th>\n",
       "      <td>POLYGON ((-87.68634 42.02134, -87.68634 42.021...</td>\n",
       "      <td>30.0</td>\n",
       "    </tr>\n",
       "    <tr>\n",
       "      <th>7403</th>\n",
       "      <td>POLYGON ((-87.67449 42.02134, -87.67449 42.021...</td>\n",
       "      <td>30.0</td>\n",
       "    </tr>\n",
       "    <tr>\n",
       "      <th>7404</th>\n",
       "      <td>POLYGON ((-87.97726 41.60687, -87.97726 41.652...</td>\n",
       "      <td>40.0</td>\n",
       "    </tr>\n",
       "  </tbody>\n",
       "</table>\n",
       "<p>7405 rows × 2 columns</p>\n",
       "</div>"
      ],
      "text/plain": [
       "                                               geometry  raster_val\n",
       "0     POLYGON ((-87.72289 41.64863, -87.72289 41.649...        30.0\n",
       "1     POLYGON ((-87.71499 41.64863, -87.71499 41.649...        30.0\n",
       "2     POLYGON ((-87.69079 41.64863, -87.69079 41.649...        30.0\n",
       "3     POLYGON ((-87.69029 41.65000, -87.69029 41.650...        30.0\n",
       "4     POLYGON ((-87.68041 41.65000, -87.68041 41.650...        30.0\n",
       "...                                                 ...         ...\n",
       "7400  POLYGON ((-87.80735 42.02134, -87.80735 42.021...        30.0\n",
       "7401  POLYGON ((-87.69968 42.02134, -87.69968 42.021...        30.0\n",
       "7402  POLYGON ((-87.68634 42.02134, -87.68634 42.021...        30.0\n",
       "7403  POLYGON ((-87.67449 42.02134, -87.67449 42.021...        30.0\n",
       "7404  POLYGON ((-87.97726 41.60687, -87.97726 41.652...        40.0\n",
       "\n",
       "[7405 rows x 2 columns]"
      ]
     },
     "execution_count": 68,
     "metadata": {},
     "output_type": "execute_result"
    }
   ],
   "source": [
    "gpd_polygonized_raster"
   ]
  },
  {
   "cell_type": "code",
   "execution_count": 69,
   "metadata": {
    "scrolled": false
   },
   "outputs": [],
   "source": [
    "#gpd_polygonized_raster[[\"geometry\",\"raster_val\"]].plot(column='raster_val',figsize=(10,10))"
   ]
  },
  {
   "cell_type": "code",
   "execution_count": 70,
   "metadata": {
    "scrolled": true
   },
   "outputs": [
    {
     "name": "stdout",
     "output_type": "stream",
     "text": [
      "Top 10 lines\n",
      "#1: /home/zhimin90/anaconda3/envs/venv/lib/python3.7/site-packages/h5py/_hl/dataset.py:766: 99.6 MB\n",
      "    arr = numpy.empty(self.shape, dtype=self.dtype if dtype is None else dtype)\n",
      "#2: <frozen importlib._bootstrap_external>:525: 62.8 MB\n",
      "#3: <__array_function__ internals>:6: 26.1 MB\n",
      "#4: /home/zhimin90/anaconda3/envs/venv/lib/python3.7/site-packages/rasterio/features.py:127: 19.1 MB\n",
      "    for s, v in _shapes(source, mask, connectivity, transform):\n",
      "#5: /home/zhimin90/anaconda3/envs/venv/lib/python3.7/site-packages/numpy/core/numeric.py:1713: 15.3 MB\n",
      "    res = empty((N,)+dimensions, dtype=dtype)\n",
      "#6: /home/zhimin90/anaconda3/envs/venv/lib/python3.7/site-packages/shapely/geometry/base.py:230: 9.5 MB\n",
      "    self._is_empty = True\n",
      "#7: <ipython-input-20-3ec23eaf0a17>:5: 7.6 MB\n",
      "    dm_series_np = np.array(density_matrix_t_series[s:])\n",
      "#8: /home/zhimin90/anaconda3/envs/venv/lib/python3.7/site-packages/sklearn/utils/validation.py:602: 7.6 MB\n",
      "    array = np.array(array, dtype=dtype, order=order)\n",
      "#9: /home/zhimin90/anaconda3/envs/venv/lib/python3.7/site-packages/KDEpy/BaseKDE.py:212: 7.6 MB\n",
      "    evaluated = evaluated.ravel() + np.finfo(float).eps\n",
      "#10: /home/zhimin90/anaconda3/envs/venv/lib/python3.7/linecache.py:137: 4.5 MB\n",
      "    lines = fp.readlines()\n",
      "66222 other: 94.0 MB\n",
      "Total allocated size: 353.8 MB\n"
     ]
    }
   ],
   "source": [
    "snapshot = tracemalloc.take_snapshot()\n",
    "display_top(snapshot)"
   ]
  },
  {
   "cell_type": "code",
   "execution_count": 71,
   "metadata": {},
   "outputs": [],
   "source": [
    "gpd_polygonized_raster[\"geometry\"] = gpd_polygonized_raster[\"geometry\"].simplify(0)"
   ]
  },
  {
   "cell_type": "code",
   "execution_count": 72,
   "metadata": {},
   "outputs": [
    {
     "name": "stdout",
     "output_type": "stream",
     "text": [
      "Top 10 lines\n",
      "#1: /home/zhimin90/anaconda3/envs/venv/lib/python3.7/site-packages/h5py/_hl/dataset.py:766: 99.6 MB\n",
      "    arr = numpy.empty(self.shape, dtype=self.dtype if dtype is None else dtype)\n",
      "#2: <frozen importlib._bootstrap_external>:525: 62.8 MB\n",
      "#3: <__array_function__ internals>:6: 26.1 MB\n",
      "#4: /home/zhimin90/anaconda3/envs/venv/lib/python3.7/site-packages/rasterio/features.py:127: 19.1 MB\n",
      "    for s, v in _shapes(source, mask, connectivity, transform):\n",
      "#5: /home/zhimin90/anaconda3/envs/venv/lib/python3.7/site-packages/numpy/core/numeric.py:1713: 15.3 MB\n",
      "    res = empty((N,)+dimensions, dtype=dtype)\n",
      "#6: /home/zhimin90/anaconda3/envs/venv/lib/python3.7/site-packages/shapely/geometry/base.py:230: 9.6 MB\n",
      "    self._is_empty = True\n",
      "#7: <ipython-input-20-3ec23eaf0a17>:5: 7.6 MB\n",
      "    dm_series_np = np.array(density_matrix_t_series[s:])\n",
      "#8: /home/zhimin90/anaconda3/envs/venv/lib/python3.7/site-packages/sklearn/utils/validation.py:602: 7.6 MB\n",
      "    array = np.array(array, dtype=dtype, order=order)\n",
      "#9: /home/zhimin90/anaconda3/envs/venv/lib/python3.7/site-packages/KDEpy/BaseKDE.py:212: 7.6 MB\n",
      "    evaluated = evaluated.ravel() + np.finfo(float).eps\n",
      "#10: /home/zhimin90/anaconda3/envs/venv/lib/python3.7/linecache.py:137: 4.5 MB\n",
      "    lines = fp.readlines()\n",
      "66203 other: 94.2 MB\n",
      "Total allocated size: 354.0 MB\n"
     ]
    }
   ],
   "source": [
    "snapshot = tracemalloc.take_snapshot()\n",
    "display_top(snapshot)"
   ]
  },
  {
   "cell_type": "code",
   "execution_count": 73,
   "metadata": {},
   "outputs": [
    {
     "data": {
      "text/plain": [
       "<matplotlib.axes._subplots.AxesSubplot at 0x7f7cb3b29a10>"
      ]
     },
     "execution_count": 73,
     "metadata": {},
     "output_type": "execute_result"
    },
    {
     "data": {
      "image/png": "[encoded data removed]",
      "text/plain": [
       "<Figure size 720x720 with 1 Axes>"
      ]
     },
     "metadata": {
      "needs_background": "light"
     },
     "output_type": "display_data"
    }
   ],
   "source": [
    "gpd_polygonized_raster[[\"geometry\",\"raster_val\"]].plot(column='raster_val',figsize=(10,10))"
   ]
  },
  {
   "cell_type": "code",
   "execution_count": 74,
   "metadata": {},
   "outputs": [
    {
     "data": {
      "text/plain": [
       "count    7405.000000\n",
       "mean       59.390952\n",
       "std        34.112886\n",
       "min         0.000000\n",
       "25%        30.000000\n",
       "50%        50.000000\n",
       "75%        80.000000\n",
       "max       240.000000\n",
       "Name: raster_val, dtype: float64"
      ]
     },
     "execution_count": 74,
     "metadata": {},
     "output_type": "execute_result"
    }
   ],
   "source": [
    "gpd_polygonized_raster['raster_val'].describe()"
   ]
  },
  {
   "cell_type": "code",
   "execution_count": 75,
   "metadata": {},
   "outputs": [
    {
     "data": {
      "text/html": [
       "<div>\n",
       "<style scoped>\n",
       "    .dataframe tbody tr th:only-of-type {\n",
       "        vertical-align: middle;\n",
       "    }\n",
       "\n",
       "    .dataframe tbody tr th {\n",
       "        vertical-align: top;\n",
       "    }\n",
       "\n",
       "    .dataframe thead th {\n",
       "        text-align: right;\n",
       "    }\n",
       "</style>\n",
       "<table border=\"1\" class=\"dataframe\">\n",
       "  <thead>\n",
       "    <tr style=\"text-align: right;\">\n",
       "      <th></th>\n",
       "      <th>geometry</th>\n",
       "      <th>raster_val</th>\n",
       "      <th>start_date</th>\n",
       "      <th>end_date</th>\n",
       "    </tr>\n",
       "  </thead>\n",
       "  <tbody>\n",
       "    <tr>\n",
       "      <th>0</th>\n",
       "      <td>POLYGON ((-87.72289 41.64863, -87.72289 41.649...</td>\n",
       "      <td>30.0</td>\n",
       "      <td>2020-03-02 01:42:18</td>\n",
       "      <td>2020-03-30 14:59:13</td>\n",
       "    </tr>\n",
       "    <tr>\n",
       "      <th>1</th>\n",
       "      <td>POLYGON ((-87.71499 41.64863, -87.71499 41.649...</td>\n",
       "      <td>30.0</td>\n",
       "      <td>2020-03-02 01:42:18</td>\n",
       "      <td>2020-03-30 14:59:13</td>\n",
       "    </tr>\n",
       "    <tr>\n",
       "      <th>2</th>\n",
       "      <td>POLYGON ((-87.69079 41.64863, -87.69079 41.649...</td>\n",
       "      <td>30.0</td>\n",
       "      <td>2020-03-02 01:42:18</td>\n",
       "      <td>2020-03-30 14:59:13</td>\n",
       "    </tr>\n",
       "    <tr>\n",
       "      <th>3</th>\n",
       "      <td>POLYGON ((-87.69029 41.65000, -87.69029 41.650...</td>\n",
       "      <td>30.0</td>\n",
       "      <td>2020-03-02 01:42:18</td>\n",
       "      <td>2020-03-30 14:59:13</td>\n",
       "    </tr>\n",
       "    <tr>\n",
       "      <th>4</th>\n",
       "      <td>POLYGON ((-87.68041 41.65000, -87.68041 41.650...</td>\n",
       "      <td>30.0</td>\n",
       "      <td>2020-03-02 01:42:18</td>\n",
       "      <td>2020-03-30 14:59:13</td>\n",
       "    </tr>\n",
       "    <tr>\n",
       "      <th>...</th>\n",
       "      <td>...</td>\n",
       "      <td>...</td>\n",
       "      <td>...</td>\n",
       "      <td>...</td>\n",
       "    </tr>\n",
       "    <tr>\n",
       "      <th>7400</th>\n",
       "      <td>POLYGON ((-87.80735 42.02134, -87.80735 42.021...</td>\n",
       "      <td>30.0</td>\n",
       "      <td>2020-03-02 01:42:18</td>\n",
       "      <td>2020-03-30 14:59:13</td>\n",
       "    </tr>\n",
       "    <tr>\n",
       "      <th>7401</th>\n",
       "      <td>POLYGON ((-87.69968 42.02134, -87.69968 42.021...</td>\n",
       "      <td>30.0</td>\n",
       "      <td>2020-03-02 01:42:18</td>\n",
       "      <td>2020-03-30 14:59:13</td>\n",
       "    </tr>\n",
       "    <tr>\n",
       "      <th>7402</th>\n",
       "      <td>POLYGON ((-87.68634 42.02134, -87.68634 42.021...</td>\n",
       "      <td>30.0</td>\n",
       "      <td>2020-03-02 01:42:18</td>\n",
       "      <td>2020-03-30 14:59:13</td>\n",
       "    </tr>\n",
       "    <tr>\n",
       "      <th>7403</th>\n",
       "      <td>POLYGON ((-87.67449 42.02134, -87.67449 42.021...</td>\n",
       "      <td>30.0</td>\n",
       "      <td>2020-03-02 01:42:18</td>\n",
       "      <td>2020-03-30 14:59:13</td>\n",
       "    </tr>\n",
       "    <tr>\n",
       "      <th>7404</th>\n",
       "      <td>POLYGON ((-87.97726 41.60687, -87.97726 41.652...</td>\n",
       "      <td>40.0</td>\n",
       "      <td>2020-03-02 01:42:18</td>\n",
       "      <td>2020-03-30 14:59:13</td>\n",
       "    </tr>\n",
       "  </tbody>\n",
       "</table>\n",
       "<p>7405 rows × 4 columns</p>\n",
       "</div>"
      ],
      "text/plain": [
       "                                               geometry  raster_val  \\\n",
       "0     POLYGON ((-87.72289 41.64863, -87.72289 41.649...        30.0   \n",
       "1     POLYGON ((-87.71499 41.64863, -87.71499 41.649...        30.0   \n",
       "2     POLYGON ((-87.69079 41.64863, -87.69079 41.649...        30.0   \n",
       "3     POLYGON ((-87.69029 41.65000, -87.69029 41.650...        30.0   \n",
       "4     POLYGON ((-87.68041 41.65000, -87.68041 41.650...        30.0   \n",
       "...                                                 ...         ...   \n",
       "7400  POLYGON ((-87.80735 42.02134, -87.80735 42.021...        30.0   \n",
       "7401  POLYGON ((-87.69968 42.02134, -87.69968 42.021...        30.0   \n",
       "7402  POLYGON ((-87.68634 42.02134, -87.68634 42.021...        30.0   \n",
       "7403  POLYGON ((-87.67449 42.02134, -87.67449 42.021...        30.0   \n",
       "7404  POLYGON ((-87.97726 41.60687, -87.97726 41.652...        40.0   \n",
       "\n",
       "              start_date            end_date  \n",
       "0    2020-03-02 01:42:18 2020-03-30 14:59:13  \n",
       "1    2020-03-02 01:42:18 2020-03-30 14:59:13  \n",
       "2    2020-03-02 01:42:18 2020-03-30 14:59:13  \n",
       "3    2020-03-02 01:42:18 2020-03-30 14:59:13  \n",
       "4    2020-03-02 01:42:18 2020-03-30 14:59:13  \n",
       "...                  ...                 ...  \n",
       "7400 2020-03-02 01:42:18 2020-03-30 14:59:13  \n",
       "7401 2020-03-02 01:42:18 2020-03-30 14:59:13  \n",
       "7402 2020-03-02 01:42:18 2020-03-30 14:59:13  \n",
       "7403 2020-03-02 01:42:18 2020-03-30 14:59:13  \n",
       "7404 2020-03-02 01:42:18 2020-03-30 14:59:13  \n",
       "\n",
       "[7405 rows x 4 columns]"
      ]
     },
     "execution_count": 75,
     "metadata": {},
     "output_type": "execute_result"
    }
   ],
   "source": [
    "gpd_polygonized_raster['start_date'] = pd.to_datetime(start_frame_date) + timedelta(days=(time_shift*(1)))\n",
    "gpd_polygonized_raster['end_date'] = pd.to_datetime(end_frame_date) + timedelta(days=(time_shift*(1)))\n",
    "gpd_polygonized_raster"
   ]
  },
  {
   "cell_type": "code",
   "execution_count": 76,
   "metadata": {},
   "outputs": [
    {
     "data": {
      "text/html": [
       "<div>\n",
       "<style scoped>\n",
       "    .dataframe tbody tr th:only-of-type {\n",
       "        vertical-align: middle;\n",
       "    }\n",
       "\n",
       "    .dataframe tbody tr th {\n",
       "        vertical-align: top;\n",
       "    }\n",
       "\n",
       "    .dataframe thead th {\n",
       "        text-align: right;\n",
       "    }\n",
       "</style>\n",
       "<table border=\"1\" class=\"dataframe\">\n",
       "  <thead>\n",
       "    <tr style=\"text-align: right;\">\n",
       "      <th></th>\n",
       "      <th>geometry</th>\n",
       "      <th>density</th>\n",
       "      <th>start_date</th>\n",
       "      <th>end_date</th>\n",
       "    </tr>\n",
       "  </thead>\n",
       "  <tbody>\n",
       "    <tr>\n",
       "      <th>0</th>\n",
       "      <td>POLYGON ((-87.72289 41.64863, -87.72289 41.649...</td>\n",
       "      <td>30.0</td>\n",
       "      <td>2020-03-02 01:42:18</td>\n",
       "      <td>2020-03-30 14:59:13</td>\n",
       "    </tr>\n",
       "    <tr>\n",
       "      <th>1</th>\n",
       "      <td>POLYGON ((-87.71499 41.64863, -87.71499 41.649...</td>\n",
       "      <td>30.0</td>\n",
       "      <td>2020-03-02 01:42:18</td>\n",
       "      <td>2020-03-30 14:59:13</td>\n",
       "    </tr>\n",
       "    <tr>\n",
       "      <th>2</th>\n",
       "      <td>POLYGON ((-87.69079 41.64863, -87.69079 41.649...</td>\n",
       "      <td>30.0</td>\n",
       "      <td>2020-03-02 01:42:18</td>\n",
       "      <td>2020-03-30 14:59:13</td>\n",
       "    </tr>\n",
       "    <tr>\n",
       "      <th>3</th>\n",
       "      <td>POLYGON ((-87.69029 41.65000, -87.69029 41.650...</td>\n",
       "      <td>30.0</td>\n",
       "      <td>2020-03-02 01:42:18</td>\n",
       "      <td>2020-03-30 14:59:13</td>\n",
       "    </tr>\n",
       "    <tr>\n",
       "      <th>4</th>\n",
       "      <td>POLYGON ((-87.68041 41.65000, -87.68041 41.650...</td>\n",
       "      <td>30.0</td>\n",
       "      <td>2020-03-02 01:42:18</td>\n",
       "      <td>2020-03-30 14:59:13</td>\n",
       "    </tr>\n",
       "    <tr>\n",
       "      <th>...</th>\n",
       "      <td>...</td>\n",
       "      <td>...</td>\n",
       "      <td>...</td>\n",
       "      <td>...</td>\n",
       "    </tr>\n",
       "    <tr>\n",
       "      <th>7400</th>\n",
       "      <td>POLYGON ((-87.80735 42.02134, -87.80735 42.021...</td>\n",
       "      <td>30.0</td>\n",
       "      <td>2020-03-02 01:42:18</td>\n",
       "      <td>2020-03-30 14:59:13</td>\n",
       "    </tr>\n",
       "    <tr>\n",
       "      <th>7401</th>\n",
       "      <td>POLYGON ((-87.69968 42.02134, -87.69968 42.021...</td>\n",
       "      <td>30.0</td>\n",
       "      <td>2020-03-02 01:42:18</td>\n",
       "      <td>2020-03-30 14:59:13</td>\n",
       "    </tr>\n",
       "    <tr>\n",
       "      <th>7402</th>\n",
       "      <td>POLYGON ((-87.68634 42.02134, -87.68634 42.021...</td>\n",
       "      <td>30.0</td>\n",
       "      <td>2020-03-02 01:42:18</td>\n",
       "      <td>2020-03-30 14:59:13</td>\n",
       "    </tr>\n",
       "    <tr>\n",
       "      <th>7403</th>\n",
       "      <td>POLYGON ((-87.67449 42.02134, -87.67449 42.021...</td>\n",
       "      <td>30.0</td>\n",
       "      <td>2020-03-02 01:42:18</td>\n",
       "      <td>2020-03-30 14:59:13</td>\n",
       "    </tr>\n",
       "    <tr>\n",
       "      <th>7404</th>\n",
       "      <td>POLYGON ((-87.97726 41.60687, -87.97726 41.652...</td>\n",
       "      <td>40.0</td>\n",
       "      <td>2020-03-02 01:42:18</td>\n",
       "      <td>2020-03-30 14:59:13</td>\n",
       "    </tr>\n",
       "  </tbody>\n",
       "</table>\n",
       "<p>7405 rows × 4 columns</p>\n",
       "</div>"
      ],
      "text/plain": [
       "                                               geometry  density  \\\n",
       "0     POLYGON ((-87.72289 41.64863, -87.72289 41.649...     30.0   \n",
       "1     POLYGON ((-87.71499 41.64863, -87.71499 41.649...     30.0   \n",
       "2     POLYGON ((-87.69079 41.64863, -87.69079 41.649...     30.0   \n",
       "3     POLYGON ((-87.69029 41.65000, -87.69029 41.650...     30.0   \n",
       "4     POLYGON ((-87.68041 41.65000, -87.68041 41.650...     30.0   \n",
       "...                                                 ...      ...   \n",
       "7400  POLYGON ((-87.80735 42.02134, -87.80735 42.021...     30.0   \n",
       "7401  POLYGON ((-87.69968 42.02134, -87.69968 42.021...     30.0   \n",
       "7402  POLYGON ((-87.68634 42.02134, -87.68634 42.021...     30.0   \n",
       "7403  POLYGON ((-87.67449 42.02134, -87.67449 42.021...     30.0   \n",
       "7404  POLYGON ((-87.97726 41.60687, -87.97726 41.652...     40.0   \n",
       "\n",
       "              start_date            end_date  \n",
       "0    2020-03-02 01:42:18 2020-03-30 14:59:13  \n",
       "1    2020-03-02 01:42:18 2020-03-30 14:59:13  \n",
       "2    2020-03-02 01:42:18 2020-03-30 14:59:13  \n",
       "3    2020-03-02 01:42:18 2020-03-30 14:59:13  \n",
       "4    2020-03-02 01:42:18 2020-03-30 14:59:13  \n",
       "...                  ...                 ...  \n",
       "7400 2020-03-02 01:42:18 2020-03-30 14:59:13  \n",
       "7401 2020-03-02 01:42:18 2020-03-30 14:59:13  \n",
       "7402 2020-03-02 01:42:18 2020-03-30 14:59:13  \n",
       "7403 2020-03-02 01:42:18 2020-03-30 14:59:13  \n",
       "7404 2020-03-02 01:42:18 2020-03-30 14:59:13  \n",
       "\n",
       "[7405 rows x 4 columns]"
      ]
     },
     "execution_count": 76,
     "metadata": {},
     "output_type": "execute_result"
    }
   ],
   "source": [
    "gpd_polygonized_raster.rename(columns={'raster_val': 'density'}, inplace=True)\n",
    "gpd_polygonized_raster"
   ]
  },
  {
   "cell_type": "code",
   "execution_count": 77,
   "metadata": {},
   "outputs": [],
   "source": [
    "import dill\n",
    "f = open(CSV_PATH +'gdf_dissolved_2020.pkl', \"wb\")\n",
    "dill.dump(gpd_polygonized_raster, file=f)\n",
    "f.close()"
   ]
  },
  {
   "cell_type": "code",
   "execution_count": null,
   "metadata": {},
   "outputs": [],
   "source": []
  }
 ],
 "metadata": {
  "kernelspec": {
   "display_name": "Python [conda env:venv]",
   "language": "python",
   "name": "conda-env-venv-py"
  },
  "language_info": {
   "codemirror_mode": {
    "name": "ipython",
    "version": 3
   },
   "file_extension": ".py",
   "mimetype": "text/x-python",
   "name": "python",
   "nbconvert_exporter": "python",
   "pygments_lexer": "ipython3",
   "version": "3.7.6"
  },
  "widgets": {
   "application/vnd.jupyter.widget-state+json": {
    "state": {},
    "version_major": 2,
    "version_minor": 0
   }
  }
 },
 "nbformat": 4,
 "nbformat_minor": 2
}
