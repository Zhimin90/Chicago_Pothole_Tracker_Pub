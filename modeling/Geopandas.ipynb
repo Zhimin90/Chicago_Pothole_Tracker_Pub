{
 "cells": [
  {
   "cell_type": "code",
   "execution_count": 16,
   "metadata": {},
   "outputs": [],
   "source": [
    "import geopandas as gpd\n",
    "import pandas as pd\n",
    "import numpy as np\n",
    "from ast import literal_eval\n",
    "from shapely.geometry import Polygon\n",
    "CSV_PATH = \"/home/zhimin90/CPT/CSVs/\""
   ]
  },
  {
   "cell_type": "code",
   "execution_count": 17,
   "metadata": {},
   "outputs": [],
   "source": [
    "pd.reset_option(\"display.max_columns\", 50)"
   ]
  },
  {
   "cell_type": "code",
   "execution_count": 18,
   "metadata": {},
   "outputs": [
    {
     "data": {
      "text/plain": [
       "'/home/zhimin90/CPT/Chicago_Pothole_Tracker_Pub/modeling'"
      ]
     },
     "execution_count": 18,
     "metadata": {},
     "output_type": "execute_result"
    }
   ],
   "source": [
    "pwd"
   ]
  },
  {
   "cell_type": "code",
   "execution_count": 19,
   "metadata": {
    "scrolled": true
   },
   "outputs": [],
   "source": [
    "df = pd.read_csv(CSV_PATH + \"2020-03-21_frames_all\", index_col=0, converters={\"poly_coordinate\": literal_eval})"
   ]
  },
  {
   "cell_type": "code",
   "execution_count": 20,
   "metadata": {},
   "outputs": [
    {
     "data": {
      "text/html": [
       "<div>\n",
       "<style scoped>\n",
       "    .dataframe tbody tr th:only-of-type {\n",
       "        vertical-align: middle;\n",
       "    }\n",
       "\n",
       "    .dataframe tbody tr th {\n",
       "        vertical-align: top;\n",
       "    }\n",
       "\n",
       "    .dataframe thead th {\n",
       "        text-align: right;\n",
       "    }\n",
       "</style>\n",
       "<table border=\"1\" class=\"dataframe\">\n",
       "  <thead>\n",
       "    <tr style=\"text-align: right;\">\n",
       "      <th></th>\n",
       "      <th>start_date</th>\n",
       "      <th>end_date</th>\n",
       "      <th>poly_coordinate</th>\n",
       "      <th>density</th>\n",
       "    </tr>\n",
       "  </thead>\n",
       "  <tbody>\n",
       "    <tr>\n",
       "      <th>0</th>\n",
       "      <td>2020-02-25 15:26:27</td>\n",
       "      <td>2020-03-26 15:07:10</td>\n",
       "      <td>[[-87.97726, 41.60687], [-87.97676558558558, 4...</td>\n",
       "      <td>-7.368972e-17</td>\n",
       "    </tr>\n",
       "    <tr>\n",
       "      <th>1</th>\n",
       "      <td>2020-02-25 15:26:27</td>\n",
       "      <td>2020-03-26 15:07:10</td>\n",
       "      <td>[[-87.97676558558558, 41.60687], [-87.97627117...</td>\n",
       "      <td>-7.069238e-17</td>\n",
       "    </tr>\n",
       "    <tr>\n",
       "      <th>2</th>\n",
       "      <td>2020-02-25 15:26:27</td>\n",
       "      <td>2020-03-26 15:07:10</td>\n",
       "      <td>[[-87.97627117117118, 41.60687], [-87.97577675...</td>\n",
       "      <td>-7.553285e-17</td>\n",
       "    </tr>\n",
       "    <tr>\n",
       "      <th>3</th>\n",
       "      <td>2020-02-25 15:26:27</td>\n",
       "      <td>2020-03-26 15:07:10</td>\n",
       "      <td>[[-87.97577675675676, 41.60687], [-87.97528234...</td>\n",
       "      <td>-7.229394e-17</td>\n",
       "    </tr>\n",
       "    <tr>\n",
       "      <th>4</th>\n",
       "      <td>2020-02-25 15:26:27</td>\n",
       "      <td>2020-03-26 15:07:10</td>\n",
       "      <td>[[-87.97528234234234, 41.60687], [-87.97478792...</td>\n",
       "      <td>-7.495127e-17</td>\n",
       "    </tr>\n",
       "    <tr>\n",
       "      <th>5</th>\n",
       "      <td>2020-02-25 15:26:27</td>\n",
       "      <td>2020-03-26 15:07:10</td>\n",
       "      <td>[[-87.97478792792793, 41.60687], [-87.97429351...</td>\n",
       "      <td>-7.826177e-17</td>\n",
       "    </tr>\n",
       "    <tr>\n",
       "      <th>6</th>\n",
       "      <td>2020-02-25 15:26:27</td>\n",
       "      <td>2020-03-26 15:07:10</td>\n",
       "      <td>[[-87.97429351351352, 41.60687], [-87.97379909...</td>\n",
       "      <td>-7.910282e-17</td>\n",
       "    </tr>\n",
       "    <tr>\n",
       "      <th>7</th>\n",
       "      <td>2020-02-25 15:26:27</td>\n",
       "      <td>2020-03-26 15:07:10</td>\n",
       "      <td>[[-87.9737990990991, 41.60687], [-87.973304684...</td>\n",
       "      <td>-7.401182e-17</td>\n",
       "    </tr>\n",
       "    <tr>\n",
       "      <th>8</th>\n",
       "      <td>2020-02-25 15:26:27</td>\n",
       "      <td>2020-03-26 15:07:10</td>\n",
       "      <td>[[-87.97330468468469, 41.60687], [-87.97281027...</td>\n",
       "      <td>-7.726861e-17</td>\n",
       "    </tr>\n",
       "    <tr>\n",
       "      <th>9</th>\n",
       "      <td>2020-02-25 15:26:27</td>\n",
       "      <td>2020-03-26 15:07:10</td>\n",
       "      <td>[[-87.97281027027027, 41.60687], [-87.97231585...</td>\n",
       "      <td>-7.477234e-17</td>\n",
       "    </tr>\n",
       "  </tbody>\n",
       "</table>\n",
       "</div>"
      ],
      "text/plain": [
       "            start_date             end_date  \\\n",
       "0  2020-02-25 15:26:27  2020-03-26 15:07:10   \n",
       "1  2020-02-25 15:26:27  2020-03-26 15:07:10   \n",
       "2  2020-02-25 15:26:27  2020-03-26 15:07:10   \n",
       "3  2020-02-25 15:26:27  2020-03-26 15:07:10   \n",
       "4  2020-02-25 15:26:27  2020-03-26 15:07:10   \n",
       "5  2020-02-25 15:26:27  2020-03-26 15:07:10   \n",
       "6  2020-02-25 15:26:27  2020-03-26 15:07:10   \n",
       "7  2020-02-25 15:26:27  2020-03-26 15:07:10   \n",
       "8  2020-02-25 15:26:27  2020-03-26 15:07:10   \n",
       "9  2020-02-25 15:26:27  2020-03-26 15:07:10   \n",
       "\n",
       "                                     poly_coordinate       density  \n",
       "0  [[-87.97726, 41.60687], [-87.97676558558558, 4... -7.368972e-17  \n",
       "1  [[-87.97676558558558, 41.60687], [-87.97627117... -7.069238e-17  \n",
       "2  [[-87.97627117117118, 41.60687], [-87.97577675... -7.553285e-17  \n",
       "3  [[-87.97577675675676, 41.60687], [-87.97528234... -7.229394e-17  \n",
       "4  [[-87.97528234234234, 41.60687], [-87.97478792... -7.495127e-17  \n",
       "5  [[-87.97478792792793, 41.60687], [-87.97429351... -7.826177e-17  \n",
       "6  [[-87.97429351351352, 41.60687], [-87.97379909... -7.910282e-17  \n",
       "7  [[-87.9737990990991, 41.60687], [-87.973304684... -7.401182e-17  \n",
       "8  [[-87.97330468468469, 41.60687], [-87.97281027... -7.726861e-17  \n",
       "9  [[-87.97281027027027, 41.60687], [-87.97231585... -7.477234e-17  "
      ]
     },
     "execution_count": 20,
     "metadata": {},
     "output_type": "execute_result"
    }
   ],
   "source": [
    "df.head(10)"
   ]
  },
  {
   "cell_type": "code",
   "execution_count": 21,
   "metadata": {},
   "outputs": [
    {
     "data": {
      "text/html": [
       "<div>\n",
       "<style scoped>\n",
       "    .dataframe tbody tr th:only-of-type {\n",
       "        vertical-align: middle;\n",
       "    }\n",
       "\n",
       "    .dataframe tbody tr th {\n",
       "        vertical-align: top;\n",
       "    }\n",
       "\n",
       "    .dataframe thead th {\n",
       "        text-align: right;\n",
       "    }\n",
       "</style>\n",
       "<table border=\"1\" class=\"dataframe\">\n",
       "  <thead>\n",
       "    <tr style=\"text-align: right;\">\n",
       "      <th></th>\n",
       "      <th>start_date</th>\n",
       "      <th>end_date</th>\n",
       "      <th>poly_coordinate</th>\n",
       "      <th>density</th>\n",
       "      <th>int_density</th>\n",
       "    </tr>\n",
       "  </thead>\n",
       "  <tbody>\n",
       "    <tr>\n",
       "      <th>0</th>\n",
       "      <td>2020-02-25 15:26:27</td>\n",
       "      <td>2020-03-26 15:07:10</td>\n",
       "      <td>[[-87.97726, 41.60687], [-87.97676558558558, 4...</td>\n",
       "      <td>-7.368972e-17</td>\n",
       "      <td>0</td>\n",
       "    </tr>\n",
       "    <tr>\n",
       "      <th>1</th>\n",
       "      <td>2020-02-25 15:26:27</td>\n",
       "      <td>2020-03-26 15:07:10</td>\n",
       "      <td>[[-87.97676558558558, 41.60687], [-87.97627117...</td>\n",
       "      <td>-7.069238e-17</td>\n",
       "      <td>0</td>\n",
       "    </tr>\n",
       "    <tr>\n",
       "      <th>2</th>\n",
       "      <td>2020-02-25 15:26:27</td>\n",
       "      <td>2020-03-26 15:07:10</td>\n",
       "      <td>[[-87.97627117117118, 41.60687], [-87.97577675...</td>\n",
       "      <td>-7.553285e-17</td>\n",
       "      <td>0</td>\n",
       "    </tr>\n",
       "    <tr>\n",
       "      <th>3</th>\n",
       "      <td>2020-02-25 15:26:27</td>\n",
       "      <td>2020-03-26 15:07:10</td>\n",
       "      <td>[[-87.97577675675676, 41.60687], [-87.97528234...</td>\n",
       "      <td>-7.229394e-17</td>\n",
       "      <td>0</td>\n",
       "    </tr>\n",
       "    <tr>\n",
       "      <th>4</th>\n",
       "      <td>2020-02-25 15:26:27</td>\n",
       "      <td>2020-03-26 15:07:10</td>\n",
       "      <td>[[-87.97528234234234, 41.60687], [-87.97478792...</td>\n",
       "      <td>-7.495127e-17</td>\n",
       "      <td>0</td>\n",
       "    </tr>\n",
       "    <tr>\n",
       "      <th>5</th>\n",
       "      <td>2020-02-25 15:26:27</td>\n",
       "      <td>2020-03-26 15:07:10</td>\n",
       "      <td>[[-87.97478792792793, 41.60687], [-87.97429351...</td>\n",
       "      <td>-7.826177e-17</td>\n",
       "      <td>0</td>\n",
       "    </tr>\n",
       "    <tr>\n",
       "      <th>6</th>\n",
       "      <td>2020-02-25 15:26:27</td>\n",
       "      <td>2020-03-26 15:07:10</td>\n",
       "      <td>[[-87.97429351351352, 41.60687], [-87.97379909...</td>\n",
       "      <td>-7.910282e-17</td>\n",
       "      <td>0</td>\n",
       "    </tr>\n",
       "    <tr>\n",
       "      <th>7</th>\n",
       "      <td>2020-02-25 15:26:27</td>\n",
       "      <td>2020-03-26 15:07:10</td>\n",
       "      <td>[[-87.9737990990991, 41.60687], [-87.973304684...</td>\n",
       "      <td>-7.401182e-17</td>\n",
       "      <td>0</td>\n",
       "    </tr>\n",
       "    <tr>\n",
       "      <th>8</th>\n",
       "      <td>2020-02-25 15:26:27</td>\n",
       "      <td>2020-03-26 15:07:10</td>\n",
       "      <td>[[-87.97330468468469, 41.60687], [-87.97281027...</td>\n",
       "      <td>-7.726861e-17</td>\n",
       "      <td>0</td>\n",
       "    </tr>\n",
       "    <tr>\n",
       "      <th>9</th>\n",
       "      <td>2020-02-25 15:26:27</td>\n",
       "      <td>2020-03-26 15:07:10</td>\n",
       "      <td>[[-87.97281027027027, 41.60687], [-87.97231585...</td>\n",
       "      <td>-7.477234e-17</td>\n",
       "      <td>0</td>\n",
       "    </tr>\n",
       "  </tbody>\n",
       "</table>\n",
       "</div>"
      ],
      "text/plain": [
       "            start_date             end_date  \\\n",
       "0  2020-02-25 15:26:27  2020-03-26 15:07:10   \n",
       "1  2020-02-25 15:26:27  2020-03-26 15:07:10   \n",
       "2  2020-02-25 15:26:27  2020-03-26 15:07:10   \n",
       "3  2020-02-25 15:26:27  2020-03-26 15:07:10   \n",
       "4  2020-02-25 15:26:27  2020-03-26 15:07:10   \n",
       "5  2020-02-25 15:26:27  2020-03-26 15:07:10   \n",
       "6  2020-02-25 15:26:27  2020-03-26 15:07:10   \n",
       "7  2020-02-25 15:26:27  2020-03-26 15:07:10   \n",
       "8  2020-02-25 15:26:27  2020-03-26 15:07:10   \n",
       "9  2020-02-25 15:26:27  2020-03-26 15:07:10   \n",
       "\n",
       "                                     poly_coordinate       density  \\\n",
       "0  [[-87.97726, 41.60687], [-87.97676558558558, 4... -7.368972e-17   \n",
       "1  [[-87.97676558558558, 41.60687], [-87.97627117... -7.069238e-17   \n",
       "2  [[-87.97627117117118, 41.60687], [-87.97577675... -7.553285e-17   \n",
       "3  [[-87.97577675675676, 41.60687], [-87.97528234... -7.229394e-17   \n",
       "4  [[-87.97528234234234, 41.60687], [-87.97478792... -7.495127e-17   \n",
       "5  [[-87.97478792792793, 41.60687], [-87.97429351... -7.826177e-17   \n",
       "6  [[-87.97429351351352, 41.60687], [-87.97379909... -7.910282e-17   \n",
       "7  [[-87.9737990990991, 41.60687], [-87.973304684... -7.401182e-17   \n",
       "8  [[-87.97330468468469, 41.60687], [-87.97281027... -7.726861e-17   \n",
       "9  [[-87.97281027027027, 41.60687], [-87.97231585... -7.477234e-17   \n",
       "\n",
       "   int_density  \n",
       "0            0  \n",
       "1            0  \n",
       "2            0  \n",
       "3            0  \n",
       "4            0  \n",
       "5            0  \n",
       "6            0  \n",
       "7            0  \n",
       "8            0  \n",
       "9            0  "
      ]
     },
     "execution_count": 21,
     "metadata": {},
     "output_type": "execute_result"
    }
   ],
   "source": [
    "df[\"int_density\"] = df.density.astype(int)\n",
    "df.head(10)\n"
   ]
  },
  {
   "cell_type": "code",
   "execution_count": 36,
   "metadata": {},
   "outputs": [
    {
     "data": {
      "text/plain": [
       "list"
      ]
     },
     "execution_count": 36,
     "metadata": {},
     "output_type": "execute_result"
    }
   ],
   "source": [
    "type(df.iloc[0,2])"
   ]
  },
  {
   "cell_type": "code",
   "execution_count": 22,
   "metadata": {
    "scrolled": true
   },
   "outputs": [],
   "source": [
    "list = []\n",
    "for index, row in df.iterrows():\n",
    "    list.append( [row['start_date'],  row['end_date'],Polygon( row['poly_coordinate']), row['density'], row['int_density']] )"
   ]
  },
  {
   "cell_type": "code",
   "execution_count": 23,
   "metadata": {},
   "outputs": [
    {
     "data": {
      "image/svg+xml": [
       "<svg xmlns=\"http://www.w3.org/2000/svg\" xmlns:xlink=\"http://www.w3.org/1999/xlink\" width=\"100.0\" height=\"100.0\" viewBox=\"-87.97727977657658 41.60685022342342 0.000533967567577065 0.0004939675675714739\" preserveAspectRatio=\"xMinYMin meet\"><g transform=\"matrix(1,0,0,-1,0,83.21419441441441)\"><path fill-rule=\"evenodd\" fill=\"#66cc99\" stroke=\"#555555\" stroke-width=\"1.06793513515413e-05\" opacity=\"0.6\" d=\"M -87.97726,41.60687 L -87.97676558558558,41.60687 L -87.97676558558558,41.607324414414414 L -87.97726,41.607324414414414 L -87.97726,41.60687 z\" /></g></svg>"
      ],
      "text/plain": [
       "<shapely.geometry.polygon.Polygon at 0x7f0edbda0e10>"
      ]
     },
     "execution_count": 23,
     "metadata": {},
     "output_type": "execute_result"
    }
   ],
   "source": [
    "list[0][2]"
   ]
  },
  {
   "cell_type": "code",
   "execution_count": 24,
   "metadata": {},
   "outputs": [],
   "source": [
    "gdf = gpd.GeoDataFrame(list, columns =['start_date','end_date', 'geometry', 'density', 'int_density'])"
   ]
  },
  {
   "cell_type": "code",
   "execution_count": 25,
   "metadata": {},
   "outputs": [
    {
     "data": {
      "text/html": [
       "<div>\n",
       "<style scoped>\n",
       "    .dataframe tbody tr th:only-of-type {\n",
       "        vertical-align: middle;\n",
       "    }\n",
       "\n",
       "    .dataframe tbody tr th {\n",
       "        vertical-align: top;\n",
       "    }\n",
       "\n",
       "    .dataframe thead th {\n",
       "        text-align: right;\n",
       "    }\n",
       "</style>\n",
       "<table border=\"1\" class=\"dataframe\">\n",
       "  <thead>\n",
       "    <tr style=\"text-align: right;\">\n",
       "      <th></th>\n",
       "      <th>minx</th>\n",
       "      <th>miny</th>\n",
       "      <th>maxx</th>\n",
       "      <th>maxy</th>\n",
       "    </tr>\n",
       "  </thead>\n",
       "  <tbody>\n",
       "    <tr>\n",
       "      <th>0</th>\n",
       "      <td>-87.977260</td>\n",
       "      <td>41.60687</td>\n",
       "      <td>-87.976766</td>\n",
       "      <td>41.607324</td>\n",
       "    </tr>\n",
       "    <tr>\n",
       "      <th>1</th>\n",
       "      <td>-87.976766</td>\n",
       "      <td>41.60687</td>\n",
       "      <td>-87.976271</td>\n",
       "      <td>41.607324</td>\n",
       "    </tr>\n",
       "    <tr>\n",
       "      <th>2</th>\n",
       "      <td>-87.976271</td>\n",
       "      <td>41.60687</td>\n",
       "      <td>-87.975777</td>\n",
       "      <td>41.607324</td>\n",
       "    </tr>\n",
       "    <tr>\n",
       "      <th>3</th>\n",
       "      <td>-87.975777</td>\n",
       "      <td>41.60687</td>\n",
       "      <td>-87.975282</td>\n",
       "      <td>41.607324</td>\n",
       "    </tr>\n",
       "    <tr>\n",
       "      <th>4</th>\n",
       "      <td>-87.975282</td>\n",
       "      <td>41.60687</td>\n",
       "      <td>-87.974788</td>\n",
       "      <td>41.607324</td>\n",
       "    </tr>\n",
       "    <tr>\n",
       "      <th>...</th>\n",
       "      <td>...</td>\n",
       "      <td>...</td>\n",
       "      <td>...</td>\n",
       "      <td>...</td>\n",
       "    </tr>\n",
       "    <tr>\n",
       "      <th>999995</th>\n",
       "      <td>-87.485318</td>\n",
       "      <td>42.06083</td>\n",
       "      <td>-87.484823</td>\n",
       "      <td>42.061284</td>\n",
       "    </tr>\n",
       "    <tr>\n",
       "      <th>999996</th>\n",
       "      <td>-87.484823</td>\n",
       "      <td>42.06083</td>\n",
       "      <td>-87.484329</td>\n",
       "      <td>42.061284</td>\n",
       "    </tr>\n",
       "    <tr>\n",
       "      <th>999997</th>\n",
       "      <td>-87.484329</td>\n",
       "      <td>42.06083</td>\n",
       "      <td>-87.483834</td>\n",
       "      <td>42.061284</td>\n",
       "    </tr>\n",
       "    <tr>\n",
       "      <th>999998</th>\n",
       "      <td>-87.483834</td>\n",
       "      <td>42.06083</td>\n",
       "      <td>-87.483340</td>\n",
       "      <td>42.061284</td>\n",
       "    </tr>\n",
       "    <tr>\n",
       "      <th>999999</th>\n",
       "      <td>-87.483340</td>\n",
       "      <td>42.06083</td>\n",
       "      <td>-87.482846</td>\n",
       "      <td>42.061284</td>\n",
       "    </tr>\n",
       "  </tbody>\n",
       "</table>\n",
       "<p>1000000 rows × 4 columns</p>\n",
       "</div>"
      ],
      "text/plain": [
       "             minx      miny       maxx       maxy\n",
       "0      -87.977260  41.60687 -87.976766  41.607324\n",
       "1      -87.976766  41.60687 -87.976271  41.607324\n",
       "2      -87.976271  41.60687 -87.975777  41.607324\n",
       "3      -87.975777  41.60687 -87.975282  41.607324\n",
       "4      -87.975282  41.60687 -87.974788  41.607324\n",
       "...           ...       ...        ...        ...\n",
       "999995 -87.485318  42.06083 -87.484823  42.061284\n",
       "999996 -87.484823  42.06083 -87.484329  42.061284\n",
       "999997 -87.484329  42.06083 -87.483834  42.061284\n",
       "999998 -87.483834  42.06083 -87.483340  42.061284\n",
       "999999 -87.483340  42.06083 -87.482846  42.061284\n",
       "\n",
       "[1000000 rows x 4 columns]"
      ]
     },
     "execution_count": 25,
     "metadata": {},
     "output_type": "execute_result"
    }
   ],
   "source": [
    "gdf.bounds"
   ]
  },
  {
   "cell_type": "code",
   "execution_count": 26,
   "metadata": {},
   "outputs": [
    {
     "data": {
      "text/plain": [
       "array([-87.97726   ,  41.60687   , -87.48284559,  42.06128441])"
      ]
     },
     "execution_count": 26,
     "metadata": {},
     "output_type": "execute_result"
    }
   ],
   "source": [
    "gdf.total_bounds"
   ]
  },
  {
   "cell_type": "code",
   "execution_count": 27,
   "metadata": {},
   "outputs": [],
   "source": [
    "xmin, ymin, xmax, ymax = gdf.total_bounds"
   ]
  },
  {
   "cell_type": "code",
   "execution_count": 70,
   "metadata": {},
   "outputs": [],
   "source": [
    "grid_size = 4\n",
    "xgrid = np.arange(xmin, xmax, (xmax-xmin)/grid_size)\n",
    "ygrid = np.arange(ymin, ymax, (ymax-ymin)/grid_size)"
   ]
  },
  {
   "cell_type": "code",
   "execution_count": 71,
   "metadata": {},
   "outputs": [
    {
     "name": "stdout",
     "output_type": "stream",
     "text": [
      "[-87.97726    -87.8536564  -87.73005279 -87.60644919] [41.60687    41.7204736  41.83407721 41.94768081]\n"
     ]
    }
   ],
   "source": [
    "print(xgrid,ygrid)"
   ]
  },
  {
   "cell_type": "code",
   "execution_count": 72,
   "metadata": {},
   "outputs": [
    {
     "name": "stdout",
     "output_type": "stream",
     "text": [
      "1\n",
      "count rows within count63001\n",
      "-------------------------\n",
      "2\n",
      "count rows within count63001\n",
      "-------------------------\n",
      "3\n",
      "count rows within count63001\n",
      "-------------------------\n",
      "4\n",
      "count rows within count62750\n",
      "-------------------------\n",
      "5\n",
      "count rows within count63252\n",
      "-------------------------\n",
      "6\n",
      "count rows within count63252\n",
      "-------------------------\n",
      "7\n",
      "count rows within count63252\n",
      "-------------------------\n",
      "8\n",
      "count rows within count63000\n",
      "-------------------------\n",
      "9\n",
      "count rows within count63001\n",
      "-------------------------\n",
      "10\n",
      "count rows within count63001\n",
      "-------------------------\n",
      "11\n",
      "count rows within count63001\n",
      "-------------------------\n",
      "12\n",
      "count rows within count62750\n",
      "-------------------------\n",
      "13\n",
      "count rows within count62750\n",
      "-------------------------\n",
      "14\n",
      "count rows within count62750\n",
      "-------------------------\n",
      "15\n",
      "count rows within count62750\n",
      "-------------------------\n",
      "16\n",
      "count rows within count62500\n",
      "-------------------------\n"
     ]
    }
   ],
   "source": [
    "c = 0\n",
    "gdf[\"zone\"] = None\n",
    "for row in xgrid:\n",
    "    for col in ygrid:\n",
    "        boundbox = Polygon([[row,col],[row+(xmax-xmin)/grid_size,col],[row+(xmax-xmin)/grid_size,col+(ymax-ymin)/grid_size],[row,col+(ymax-ymin)/grid_size],[row,col]])\n",
    "        bb_df = gpd.GeoSeries(boundbox)\n",
    "        bool_within_bb = gdf.geometry.intersects(boundbox)\n",
    "        index_within_bb = gdf[bool_within_bb].index\n",
    "        gdf.iloc[index_within_bb,5] = c\n",
    "        c+=1\n",
    "        print(c)\n",
    "        print(\"count rows within count\" + str(len(index_within_bb)))\n",
    "        print(\"-\"*25)"
   ]
  },
  {
   "cell_type": "code",
   "execution_count": 73,
   "metadata": {},
   "outputs": [
    {
     "data": {
      "text/plain": [
       "0         False\n",
       "1         False\n",
       "2         False\n",
       "3         False\n",
       "4         False\n",
       "          ...  \n",
       "999995    False\n",
       "999996    False\n",
       "999997    False\n",
       "999998    False\n",
       "999999    False\n",
       "Name: zone, Length: 1000000, dtype: bool"
      ]
     },
     "execution_count": 73,
     "metadata": {},
     "output_type": "execute_result"
    }
   ],
   "source": [
    "gdf[\"zone\"].isnull()"
   ]
  },
  {
   "cell_type": "code",
   "execution_count": 74,
   "metadata": {},
   "outputs": [
    {
     "data": {
      "text/plain": [
       "start_date     0\n",
       "end_date       0\n",
       "geometry       0\n",
       "density        0\n",
       "int_density    0\n",
       "zone           0\n",
       "dtype: int64"
      ]
     },
     "execution_count": 74,
     "metadata": {},
     "output_type": "execute_result"
    }
   ],
   "source": [
    "gdf[gdf[\"zone\"].isnull()].count()"
   ]
  },
  {
   "cell_type": "code",
   "execution_count": 78,
   "metadata": {
    "scrolled": true
   },
   "outputs": [],
   "source": [
    "#c = 0\n",
    "#gdf[\"zone\"] = None\n",
    "#for row in xgrid:\n",
    "#    for col in ygrid:\n",
    "#        #print(row,col)\n",
    "#        current_index = gdf.cx[row:row+(xmax-xmin)/grid_size, col:col+(ymax-ymin)/grid_size].index\n",
    "#        gdf.iloc[current_index,5] = c\n",
    "#        c+=1"
   ]
  },
  {
   "cell_type": "code",
   "execution_count": null,
   "metadata": {},
   "outputs": [],
   "source": [
    "sum(gdf[\"zone\"].notna())"
   ]
  },
  {
   "cell_type": "code",
   "execution_count": null,
   "metadata": {},
   "outputs": [],
   "source": [
    "gdf[gdf[\"zone\"].notna()]"
   ]
  },
  {
   "cell_type": "code",
   "execution_count": 75,
   "metadata": {},
   "outputs": [],
   "source": [
    "gdf_dissolved = gdf.dissolve(by=['int_density','zone'])"
   ]
  },
  {
   "cell_type": "code",
   "execution_count": 76,
   "metadata": {},
   "outputs": [
    {
     "data": {
      "text/html": [
       "<div>\n",
       "<style scoped>\n",
       "    .dataframe tbody tr th:only-of-type {\n",
       "        vertical-align: middle;\n",
       "    }\n",
       "\n",
       "    .dataframe tbody tr th {\n",
       "        vertical-align: top;\n",
       "    }\n",
       "\n",
       "    .dataframe thead th {\n",
       "        text-align: right;\n",
       "    }\n",
       "</style>\n",
       "<table border=\"1\" class=\"dataframe\">\n",
       "  <thead>\n",
       "    <tr style=\"text-align: right;\">\n",
       "      <th></th>\n",
       "      <th></th>\n",
       "      <th>geometry</th>\n",
       "      <th>start_date</th>\n",
       "      <th>end_date</th>\n",
       "      <th>density</th>\n",
       "    </tr>\n",
       "    <tr>\n",
       "      <th>int_density</th>\n",
       "      <th>zone</th>\n",
       "      <th></th>\n",
       "      <th></th>\n",
       "      <th></th>\n",
       "      <th></th>\n",
       "    </tr>\n",
       "  </thead>\n",
       "  <tbody>\n",
       "    <tr>\n",
       "      <th>-30</th>\n",
       "      <th>11</th>\n",
       "      <td>POLYGON ((-87.64205 41.96813, -87.64155 41.968...</td>\n",
       "      <td>2020-02-25 15:26:27</td>\n",
       "      <td>2020-03-26 15:07:10</td>\n",
       "      <td>-30.081804</td>\n",
       "    </tr>\n",
       "    <tr>\n",
       "      <th>-29</th>\n",
       "      <th>11</th>\n",
       "      <td>POLYGON ((-87.64155 41.96813, -87.64106 41.968...</td>\n",
       "      <td>2020-02-25 15:26:27</td>\n",
       "      <td>2020-03-26 15:07:10</td>\n",
       "      <td>-29.200430</td>\n",
       "    </tr>\n",
       "    <tr>\n",
       "      <th>-26</th>\n",
       "      <th>11</th>\n",
       "      <td>POLYGON ((-87.64155 41.96858, -87.64205 41.968...</td>\n",
       "      <td>2020-02-25 15:26:27</td>\n",
       "      <td>2020-03-26 15:07:10</td>\n",
       "      <td>-26.299114</td>\n",
       "    </tr>\n",
       "    <tr>\n",
       "      <th>-25</th>\n",
       "      <th>11</th>\n",
       "      <td>POLYGON ((-87.64106 41.96813, -87.64056 41.968...</td>\n",
       "      <td>2020-02-25 15:26:27</td>\n",
       "      <td>2020-03-26 15:07:10</td>\n",
       "      <td>-25.253798</td>\n",
       "    </tr>\n",
       "    <tr>\n",
       "      <th>-23</th>\n",
       "      <th>11</th>\n",
       "      <td>POLYGON ((-87.64155 41.96904, -87.64106 41.969...</td>\n",
       "      <td>2020-02-25 15:26:27</td>\n",
       "      <td>2020-03-26 15:07:10</td>\n",
       "      <td>-23.235737</td>\n",
       "    </tr>\n",
       "    <tr>\n",
       "      <th>...</th>\n",
       "      <th>...</th>\n",
       "      <td>...</td>\n",
       "      <td>...</td>\n",
       "      <td>...</td>\n",
       "      <td>...</td>\n",
       "    </tr>\n",
       "    <tr>\n",
       "      <th>252</th>\n",
       "      <th>9</th>\n",
       "      <td>MULTIPOLYGON (((-87.72214 41.74547, -87.72165 ...</td>\n",
       "      <td>2020-02-25 15:26:27</td>\n",
       "      <td>2020-03-26 15:07:10</td>\n",
       "      <td>252.343231</td>\n",
       "    </tr>\n",
       "    <tr>\n",
       "      <th>255</th>\n",
       "      <th>9</th>\n",
       "      <td>POLYGON ((-87.72264 41.74638, -87.72214 41.746...</td>\n",
       "      <td>2020-02-25 15:26:27</td>\n",
       "      <td>2020-03-26 15:07:10</td>\n",
       "      <td>255.555878</td>\n",
       "    </tr>\n",
       "    <tr>\n",
       "      <th>265</th>\n",
       "      <th>9</th>\n",
       "      <td>POLYGON ((-87.72214 41.74592, -87.72165 41.745...</td>\n",
       "      <td>2020-02-25 15:26:27</td>\n",
       "      <td>2020-03-26 15:07:10</td>\n",
       "      <td>265.838867</td>\n",
       "    </tr>\n",
       "    <tr>\n",
       "      <th>269</th>\n",
       "      <th>9</th>\n",
       "      <td>POLYGON ((-87.72214 41.74683, -87.72165 41.746...</td>\n",
       "      <td>2020-02-25 15:26:27</td>\n",
       "      <td>2020-03-26 15:07:10</td>\n",
       "      <td>269.566711</td>\n",
       "    </tr>\n",
       "    <tr>\n",
       "      <th>277</th>\n",
       "      <th>9</th>\n",
       "      <td>POLYGON ((-87.72214 41.74638, -87.72165 41.746...</td>\n",
       "      <td>2020-02-25 15:26:27</td>\n",
       "      <td>2020-03-26 15:07:10</td>\n",
       "      <td>277.642700</td>\n",
       "    </tr>\n",
       "  </tbody>\n",
       "</table>\n",
       "<p>619 rows × 4 columns</p>\n",
       "</div>"
      ],
      "text/plain": [
       "                                                           geometry  \\\n",
       "int_density zone                                                      \n",
       "-30         11    POLYGON ((-87.64205 41.96813, -87.64155 41.968...   \n",
       "-29         11    POLYGON ((-87.64155 41.96813, -87.64106 41.968...   \n",
       "-26         11    POLYGON ((-87.64155 41.96858, -87.64205 41.968...   \n",
       "-25         11    POLYGON ((-87.64106 41.96813, -87.64056 41.968...   \n",
       "-23         11    POLYGON ((-87.64155 41.96904, -87.64106 41.969...   \n",
       "...                                                             ...   \n",
       " 252        9     MULTIPOLYGON (((-87.72214 41.74547, -87.72165 ...   \n",
       " 255        9     POLYGON ((-87.72264 41.74638, -87.72214 41.746...   \n",
       " 265        9     POLYGON ((-87.72214 41.74592, -87.72165 41.745...   \n",
       " 269        9     POLYGON ((-87.72214 41.74683, -87.72165 41.746...   \n",
       " 277        9     POLYGON ((-87.72214 41.74638, -87.72165 41.746...   \n",
       "\n",
       "                           start_date             end_date     density  \n",
       "int_density zone                                                        \n",
       "-30         11    2020-02-25 15:26:27  2020-03-26 15:07:10  -30.081804  \n",
       "-29         11    2020-02-25 15:26:27  2020-03-26 15:07:10  -29.200430  \n",
       "-26         11    2020-02-25 15:26:27  2020-03-26 15:07:10  -26.299114  \n",
       "-25         11    2020-02-25 15:26:27  2020-03-26 15:07:10  -25.253798  \n",
       "-23         11    2020-02-25 15:26:27  2020-03-26 15:07:10  -23.235737  \n",
       "...                               ...                  ...         ...  \n",
       " 252        9     2020-02-25 15:26:27  2020-03-26 15:07:10  252.343231  \n",
       " 255        9     2020-02-25 15:26:27  2020-03-26 15:07:10  255.555878  \n",
       " 265        9     2020-02-25 15:26:27  2020-03-26 15:07:10  265.838867  \n",
       " 269        9     2020-02-25 15:26:27  2020-03-26 15:07:10  269.566711  \n",
       " 277        9     2020-02-25 15:26:27  2020-03-26 15:07:10  277.642700  \n",
       "\n",
       "[619 rows x 4 columns]"
      ]
     },
     "execution_count": 76,
     "metadata": {},
     "output_type": "execute_result"
    }
   ],
   "source": [
    "gdf_dissolved"
   ]
  },
  {
   "cell_type": "code",
   "execution_count": 77,
   "metadata": {
    "scrolled": false
   },
   "outputs": [
    {
     "data": {
      "text/plain": [
       "<matplotlib.axes._subplots.AxesSubplot at 0x7f0f17d49c50>"
      ]
     },
     "execution_count": 77,
     "metadata": {},
     "output_type": "execute_result"
    },
    {
     "data": {
      "image/png": "[encoded data removed]",
      "text/plain": [
       "<Figure size 720x720 with 1 Axes>"
      ]
     },
     "metadata": {
      "needs_background": "light"
     },
     "output_type": "display_data"
    }
   ],
   "source": [
    "gdf_dissolved[[\"geometry\",\"density\"]].plot(column='density',figsize=(10,10))"
   ]
  },
  {
   "cell_type": "code",
   "execution_count": null,
   "metadata": {},
   "outputs": [],
   "source": [
    "gdf_dissolved.to_file(\"2017-11-11_4_test.geojson\", driver='GeoJSON')"
   ]
  },
  {
   "cell_type": "code",
   "execution_count": null,
   "metadata": {},
   "outputs": [],
   "source": []
  }
 ],
 "metadata": {
  "kernelspec": {
   "display_name": "Python [conda env:venv]",
   "language": "python",
   "name": "conda-env-venv-py"
  },
  "language_info": {
   "codemirror_mode": {
    "name": "ipython",
    "version": 3
   },
   "file_extension": ".py",
   "mimetype": "text/x-python",
   "name": "python",
   "nbconvert_exporter": "python",
   "pygments_lexer": "ipython3",
   "version": "3.7.6"
  }
 },
 "nbformat": 4,
 "nbformat_minor": 2
}
