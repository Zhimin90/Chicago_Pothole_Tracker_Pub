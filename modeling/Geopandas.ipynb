{
 "cells": [
  {
   "cell_type": "code",
   "execution_count": 1,
   "metadata": {},
   "outputs": [],
   "source": [
    "import geopandas as gpd\n",
    "import pandas as pd\n",
    "import numpy as np\n",
    "from ast import literal_eval\n",
    "from shapely.geometry import Polygon\n",
    "CSV_PATH = \"/home/zhimin90/CPT/CSVs/\""
   ]
  },
  {
   "cell_type": "code",
   "execution_count": 2,
   "metadata": {},
   "outputs": [],
   "source": [
    "pd.reset_option(\"display.max_columns\", 50)"
   ]
  },
  {
   "cell_type": "code",
   "execution_count": 3,
   "metadata": {},
   "outputs": [
    {
     "data": {
      "text/plain": [
       "'/home/zhimin90/CPT/HerokuCPT/modeling'"
      ]
     },
     "execution_count": 3,
     "metadata": {},
     "output_type": "execute_result"
    }
   ],
   "source": [
    "pwd"
   ]
  },
  {
   "cell_type": "code",
   "execution_count": 4,
   "metadata": {
    "scrolled": true
   },
   "outputs": [],
   "source": [
    "df = pd.read_csv(CSV_PATH + \"2020-03-21_frames_all\", index_col=0, converters={\"poly_coordinate\": literal_eval})"
   ]
  },
  {
   "cell_type": "code",
   "execution_count": 5,
   "metadata": {},
   "outputs": [
    {
     "data": {
      "text/html": [
       "<div>\n",
       "<style scoped>\n",
       "    .dataframe tbody tr th:only-of-type {\n",
       "        vertical-align: middle;\n",
       "    }\n",
       "\n",
       "    .dataframe tbody tr th {\n",
       "        vertical-align: top;\n",
       "    }\n",
       "\n",
       "    .dataframe thead th {\n",
       "        text-align: right;\n",
       "    }\n",
       "</style>\n",
       "<table border=\"1\" class=\"dataframe\">\n",
       "  <thead>\n",
       "    <tr style=\"text-align: right;\">\n",
       "      <th></th>\n",
       "      <th>start_date</th>\n",
       "      <th>end_date</th>\n",
       "      <th>poly_coordinate</th>\n",
       "      <th>density</th>\n",
       "    </tr>\n",
       "  </thead>\n",
       "  <tbody>\n",
       "    <tr>\n",
       "      <th>0</th>\n",
       "      <td>2020-02-25 15:26:27</td>\n",
       "      <td>2020-03-26 15:07:10</td>\n",
       "      <td>[[-87.97726, 41.60687], [-87.97676558558558, 4...</td>\n",
       "      <td>-7.368972e-17</td>\n",
       "    </tr>\n",
       "    <tr>\n",
       "      <th>1</th>\n",
       "      <td>2020-02-25 15:26:27</td>\n",
       "      <td>2020-03-26 15:07:10</td>\n",
       "      <td>[[-87.97676558558558, 41.60687], [-87.97627117...</td>\n",
       "      <td>-7.069238e-17</td>\n",
       "    </tr>\n",
       "    <tr>\n",
       "      <th>2</th>\n",
       "      <td>2020-02-25 15:26:27</td>\n",
       "      <td>2020-03-26 15:07:10</td>\n",
       "      <td>[[-87.97627117117118, 41.60687], [-87.97577675...</td>\n",
       "      <td>-7.553285e-17</td>\n",
       "    </tr>\n",
       "    <tr>\n",
       "      <th>3</th>\n",
       "      <td>2020-02-25 15:26:27</td>\n",
       "      <td>2020-03-26 15:07:10</td>\n",
       "      <td>[[-87.97577675675676, 41.60687], [-87.97528234...</td>\n",
       "      <td>-7.229394e-17</td>\n",
       "    </tr>\n",
       "    <tr>\n",
       "      <th>4</th>\n",
       "      <td>2020-02-25 15:26:27</td>\n",
       "      <td>2020-03-26 15:07:10</td>\n",
       "      <td>[[-87.97528234234234, 41.60687], [-87.97478792...</td>\n",
       "      <td>-7.495127e-17</td>\n",
       "    </tr>\n",
       "    <tr>\n",
       "      <th>5</th>\n",
       "      <td>2020-02-25 15:26:27</td>\n",
       "      <td>2020-03-26 15:07:10</td>\n",
       "      <td>[[-87.97478792792793, 41.60687], [-87.97429351...</td>\n",
       "      <td>-7.826177e-17</td>\n",
       "    </tr>\n",
       "    <tr>\n",
       "      <th>6</th>\n",
       "      <td>2020-02-25 15:26:27</td>\n",
       "      <td>2020-03-26 15:07:10</td>\n",
       "      <td>[[-87.97429351351352, 41.60687], [-87.97379909...</td>\n",
       "      <td>-7.910282e-17</td>\n",
       "    </tr>\n",
       "    <tr>\n",
       "      <th>7</th>\n",
       "      <td>2020-02-25 15:26:27</td>\n",
       "      <td>2020-03-26 15:07:10</td>\n",
       "      <td>[[-87.9737990990991, 41.60687], [-87.973304684...</td>\n",
       "      <td>-7.401182e-17</td>\n",
       "    </tr>\n",
       "    <tr>\n",
       "      <th>8</th>\n",
       "      <td>2020-02-25 15:26:27</td>\n",
       "      <td>2020-03-26 15:07:10</td>\n",
       "      <td>[[-87.97330468468469, 41.60687], [-87.97281027...</td>\n",
       "      <td>-7.726861e-17</td>\n",
       "    </tr>\n",
       "    <tr>\n",
       "      <th>9</th>\n",
       "      <td>2020-02-25 15:26:27</td>\n",
       "      <td>2020-03-26 15:07:10</td>\n",
       "      <td>[[-87.97281027027027, 41.60687], [-87.97231585...</td>\n",
       "      <td>-7.477234e-17</td>\n",
       "    </tr>\n",
       "  </tbody>\n",
       "</table>\n",
       "</div>"
      ],
      "text/plain": [
       "            start_date             end_date  \\\n",
       "0  2020-02-25 15:26:27  2020-03-26 15:07:10   \n",
       "1  2020-02-25 15:26:27  2020-03-26 15:07:10   \n",
       "2  2020-02-25 15:26:27  2020-03-26 15:07:10   \n",
       "3  2020-02-25 15:26:27  2020-03-26 15:07:10   \n",
       "4  2020-02-25 15:26:27  2020-03-26 15:07:10   \n",
       "5  2020-02-25 15:26:27  2020-03-26 15:07:10   \n",
       "6  2020-02-25 15:26:27  2020-03-26 15:07:10   \n",
       "7  2020-02-25 15:26:27  2020-03-26 15:07:10   \n",
       "8  2020-02-25 15:26:27  2020-03-26 15:07:10   \n",
       "9  2020-02-25 15:26:27  2020-03-26 15:07:10   \n",
       "\n",
       "                                     poly_coordinate       density  \n",
       "0  [[-87.97726, 41.60687], [-87.97676558558558, 4... -7.368972e-17  \n",
       "1  [[-87.97676558558558, 41.60687], [-87.97627117... -7.069238e-17  \n",
       "2  [[-87.97627117117118, 41.60687], [-87.97577675... -7.553285e-17  \n",
       "3  [[-87.97577675675676, 41.60687], [-87.97528234... -7.229394e-17  \n",
       "4  [[-87.97528234234234, 41.60687], [-87.97478792... -7.495127e-17  \n",
       "5  [[-87.97478792792793, 41.60687], [-87.97429351... -7.826177e-17  \n",
       "6  [[-87.97429351351352, 41.60687], [-87.97379909... -7.910282e-17  \n",
       "7  [[-87.9737990990991, 41.60687], [-87.973304684... -7.401182e-17  \n",
       "8  [[-87.97330468468469, 41.60687], [-87.97281027... -7.726861e-17  \n",
       "9  [[-87.97281027027027, 41.60687], [-87.97231585... -7.477234e-17  "
      ]
     },
     "execution_count": 5,
     "metadata": {},
     "output_type": "execute_result"
    }
   ],
   "source": [
    "df.head(10)"
   ]
  },
  {
   "cell_type": "code",
   "execution_count": 10,
   "metadata": {},
   "outputs": [
    {
     "name": "stdout",
     "output_type": "stream",
     "text": [
      "277\n",
      "-30\n"
     ]
    }
   ],
   "source": [
    "max_density = max(df.density.astype(int))\n",
    "min_density = min(df.density.astype(int))\n",
    "\n",
    "print(max_density)\n",
    "print(min_density)"
   ]
  },
  {
   "cell_type": "code",
   "execution_count": 41,
   "metadata": {},
   "outputs": [
    {
     "data": {
      "text/html": [
       "<div>\n",
       "<style scoped>\n",
       "    .dataframe tbody tr th:only-of-type {\n",
       "        vertical-align: middle;\n",
       "    }\n",
       "\n",
       "    .dataframe tbody tr th {\n",
       "        vertical-align: top;\n",
       "    }\n",
       "\n",
       "    .dataframe thead th {\n",
       "        text-align: right;\n",
       "    }\n",
       "</style>\n",
       "<table border=\"1\" class=\"dataframe\">\n",
       "  <thead>\n",
       "    <tr style=\"text-align: right;\">\n",
       "      <th></th>\n",
       "      <th>start_date</th>\n",
       "      <th>end_date</th>\n",
       "      <th>poly_coordinate</th>\n",
       "      <th>density</th>\n",
       "      <th>int_density</th>\n",
       "    </tr>\n",
       "  </thead>\n",
       "  <tbody>\n",
       "    <tr>\n",
       "      <th>0</th>\n",
       "      <td>2020-02-25 15:26:27</td>\n",
       "      <td>2020-03-26 15:07:10</td>\n",
       "      <td>[[-87.97726, 41.60687], [-87.97676558558558, 4...</td>\n",
       "      <td>-7.368972e-17</td>\n",
       "      <td>0</td>\n",
       "    </tr>\n",
       "    <tr>\n",
       "      <th>1</th>\n",
       "      <td>2020-02-25 15:26:27</td>\n",
       "      <td>2020-03-26 15:07:10</td>\n",
       "      <td>[[-87.97676558558558, 41.60687], [-87.97627117...</td>\n",
       "      <td>-7.069238e-17</td>\n",
       "      <td>0</td>\n",
       "    </tr>\n",
       "    <tr>\n",
       "      <th>2</th>\n",
       "      <td>2020-02-25 15:26:27</td>\n",
       "      <td>2020-03-26 15:07:10</td>\n",
       "      <td>[[-87.97627117117118, 41.60687], [-87.97577675...</td>\n",
       "      <td>-7.553285e-17</td>\n",
       "      <td>0</td>\n",
       "    </tr>\n",
       "    <tr>\n",
       "      <th>3</th>\n",
       "      <td>2020-02-25 15:26:27</td>\n",
       "      <td>2020-03-26 15:07:10</td>\n",
       "      <td>[[-87.97577675675676, 41.60687], [-87.97528234...</td>\n",
       "      <td>-7.229394e-17</td>\n",
       "      <td>0</td>\n",
       "    </tr>\n",
       "    <tr>\n",
       "      <th>4</th>\n",
       "      <td>2020-02-25 15:26:27</td>\n",
       "      <td>2020-03-26 15:07:10</td>\n",
       "      <td>[[-87.97528234234234, 41.60687], [-87.97478792...</td>\n",
       "      <td>-7.495127e-17</td>\n",
       "      <td>0</td>\n",
       "    </tr>\n",
       "    <tr>\n",
       "      <th>5</th>\n",
       "      <td>2020-02-25 15:26:27</td>\n",
       "      <td>2020-03-26 15:07:10</td>\n",
       "      <td>[[-87.97478792792793, 41.60687], [-87.97429351...</td>\n",
       "      <td>-7.826177e-17</td>\n",
       "      <td>0</td>\n",
       "    </tr>\n",
       "    <tr>\n",
       "      <th>6</th>\n",
       "      <td>2020-02-25 15:26:27</td>\n",
       "      <td>2020-03-26 15:07:10</td>\n",
       "      <td>[[-87.97429351351352, 41.60687], [-87.97379909...</td>\n",
       "      <td>-7.910282e-17</td>\n",
       "      <td>0</td>\n",
       "    </tr>\n",
       "    <tr>\n",
       "      <th>7</th>\n",
       "      <td>2020-02-25 15:26:27</td>\n",
       "      <td>2020-03-26 15:07:10</td>\n",
       "      <td>[[-87.9737990990991, 41.60687], [-87.973304684...</td>\n",
       "      <td>-7.401182e-17</td>\n",
       "      <td>0</td>\n",
       "    </tr>\n",
       "    <tr>\n",
       "      <th>8</th>\n",
       "      <td>2020-02-25 15:26:27</td>\n",
       "      <td>2020-03-26 15:07:10</td>\n",
       "      <td>[[-87.97330468468469, 41.60687], [-87.97281027...</td>\n",
       "      <td>-7.726861e-17</td>\n",
       "      <td>0</td>\n",
       "    </tr>\n",
       "    <tr>\n",
       "      <th>9</th>\n",
       "      <td>2020-02-25 15:26:27</td>\n",
       "      <td>2020-03-26 15:07:10</td>\n",
       "      <td>[[-87.97281027027027, 41.60687], [-87.97231585...</td>\n",
       "      <td>-7.477234e-17</td>\n",
       "      <td>0</td>\n",
       "    </tr>\n",
       "  </tbody>\n",
       "</table>\n",
       "</div>"
      ],
      "text/plain": [
       "            start_date             end_date  \\\n",
       "0  2020-02-25 15:26:27  2020-03-26 15:07:10   \n",
       "1  2020-02-25 15:26:27  2020-03-26 15:07:10   \n",
       "2  2020-02-25 15:26:27  2020-03-26 15:07:10   \n",
       "3  2020-02-25 15:26:27  2020-03-26 15:07:10   \n",
       "4  2020-02-25 15:26:27  2020-03-26 15:07:10   \n",
       "5  2020-02-25 15:26:27  2020-03-26 15:07:10   \n",
       "6  2020-02-25 15:26:27  2020-03-26 15:07:10   \n",
       "7  2020-02-25 15:26:27  2020-03-26 15:07:10   \n",
       "8  2020-02-25 15:26:27  2020-03-26 15:07:10   \n",
       "9  2020-02-25 15:26:27  2020-03-26 15:07:10   \n",
       "\n",
       "                                     poly_coordinate       density  \\\n",
       "0  [[-87.97726, 41.60687], [-87.97676558558558, 4... -7.368972e-17   \n",
       "1  [[-87.97676558558558, 41.60687], [-87.97627117... -7.069238e-17   \n",
       "2  [[-87.97627117117118, 41.60687], [-87.97577675... -7.553285e-17   \n",
       "3  [[-87.97577675675676, 41.60687], [-87.97528234... -7.229394e-17   \n",
       "4  [[-87.97528234234234, 41.60687], [-87.97478792... -7.495127e-17   \n",
       "5  [[-87.97478792792793, 41.60687], [-87.97429351... -7.826177e-17   \n",
       "6  [[-87.97429351351352, 41.60687], [-87.97379909... -7.910282e-17   \n",
       "7  [[-87.9737990990991, 41.60687], [-87.973304684... -7.401182e-17   \n",
       "8  [[-87.97330468468469, 41.60687], [-87.97281027... -7.726861e-17   \n",
       "9  [[-87.97281027027027, 41.60687], [-87.97231585... -7.477234e-17   \n",
       "\n",
       "   int_density  \n",
       "0            0  \n",
       "1            0  \n",
       "2            0  \n",
       "3            0  \n",
       "4            0  \n",
       "5            0  \n",
       "6            0  \n",
       "7            0  \n",
       "8            0  \n",
       "9            0  "
      ]
     },
     "execution_count": 41,
     "metadata": {},
     "output_type": "execute_result"
    }
   ],
   "source": [
    "df[\"int_density\"] = (df.density.astype(int)*50/(max_density - min_density)).astype(int)\n",
    "df.head(10)\n"
   ]
  },
  {
   "cell_type": "code",
   "execution_count": 42,
   "metadata": {},
   "outputs": [
    {
     "data": {
      "text/plain": [
       "45"
      ]
     },
     "execution_count": 42,
     "metadata": {},
     "output_type": "execute_result"
    }
   ],
   "source": [
    "max(df[\"int_density\"])"
   ]
  },
  {
   "cell_type": "code",
   "execution_count": 43,
   "metadata": {},
   "outputs": [
    {
     "data": {
      "text/plain": [
       "list"
      ]
     },
     "execution_count": 43,
     "metadata": {},
     "output_type": "execute_result"
    }
   ],
   "source": [
    "type(df.iloc[0,2])"
   ]
  },
  {
   "cell_type": "code",
   "execution_count": 44,
   "metadata": {
    "scrolled": true
   },
   "outputs": [],
   "source": [
    "list = []\n",
    "for index, row in df.iterrows():\n",
    "    list.append( [row['start_date'],  row['end_date'],Polygon( row['poly_coordinate']), row['density'], row['int_density']] )"
   ]
  },
  {
   "cell_type": "code",
   "execution_count": 160,
   "metadata": {},
   "outputs": [
    {
     "name": "stdout",
     "output_type": "stream",
     "text": [
      "POLYGON ((-87.97726 41.60687, -87.97676558558558 41.60687, -87.97676558558558 41.60732441441441, -87.97726 41.60732441441441, -87.97726 41.60687))\n",
      "-7.368972235897639e-17\n"
     ]
    }
   ],
   "source": [
    "print(list[0][2])\n"
   ]
  },
  {
   "cell_type": "code",
   "execution_count": 169,
   "metadata": {},
   "outputs": [
    {
     "data": {
      "image/svg+xml": [
       "<svg xmlns=\"http://www.w3.org/2000/svg\" xmlns:xlink=\"http://www.w3.org/1999/xlink\" width=\"100.0\" height=\"100.0\" viewBox=\"-87.97678536216216 41.60685022342342 0.000533967567577065 0.0004939675675714739\" preserveAspectRatio=\"xMinYMin meet\"><g transform=\"matrix(1,0,0,-1,0,83.21419441441441)\"><path fill-rule=\"evenodd\" fill=\"#66cc99\" stroke=\"#555555\" stroke-width=\"1.06793513515413e-05\" opacity=\"0.6\" d=\"M -87.97676558558558,41.60687 L -87.97627117117116,41.60687 L -87.97627117117116,41.607324414414414 L -87.97676558558558,41.607324414414414 L -87.97676558558558,41.60687 z\" /></g></svg>"
      ],
      "text/plain": [
       "<shapely.geometry.polygon.Polygon at 0x7faf7ccee290>"
      ]
     },
     "execution_count": 169,
     "metadata": {},
     "output_type": "execute_result"
    }
   ],
   "source": [
    "list[1][2]"
   ]
  },
  {
   "cell_type": "code",
   "execution_count": 191,
   "metadata": {},
   "outputs": [
    {
     "name": "stdout",
     "output_type": "stream",
     "text": [
      "MULTIPOLYGON (((-87.97726 41.60687, -87.97676558558558 41.60687, -87.97676558558558 41.60732441441441, -87.97726 41.60732441441441, -87.97726 41.60687)), ((-87.97627117117118 41.60687, -87.97577675675676 41.60687, -87.97577675675676 41.60732441441441, -87.97627117117118 41.60732441441441, -87.97627117117118 41.60687)))\n"
     ]
    },
    {
     "data": {
      "image/svg+xml": [
       "<svg xmlns=\"http://www.w3.org/2000/svg\" xmlns:xlink=\"http://www.w3.org/1999/xlink\" width=\"100.0\" height=\"100.0\" viewBox=\"-87.97731932972972 41.60681067027027 0.0016019027026885624 0.0005730738738733976\" preserveAspectRatio=\"xMinYMin meet\"><g transform=\"matrix(1,0,0,-1,0,83.21419441441441)\"><g><path fill-rule=\"evenodd\" fill=\"#66cc99\" stroke=\"#555555\" stroke-width=\"3.2038054053771246e-05\" opacity=\"0.6\" d=\"M -87.97726,41.60687 L -87.97676558558558,41.60687 L -87.97676558558558,41.607324414414414 L -87.97726,41.607324414414414 L -87.97726,41.60687 z\" /><path fill-rule=\"evenodd\" fill=\"#66cc99\" stroke=\"#555555\" stroke-width=\"3.2038054053771246e-05\" opacity=\"0.6\" d=\"M -87.97627117117118,41.60687 L -87.97577675675676,41.60687 L -87.97577675675676,41.607324414414414 L -87.97627117117118,41.607324414414414 L -87.97627117117118,41.60687 z\" /></g></g></svg>"
      ],
      "text/plain": [
       "<shapely.geometry.multipolygon.MultiPolygon at 0x7faf59b0afd0>"
      ]
     },
     "execution_count": 191,
     "metadata": {},
     "output_type": "execute_result"
    }
   ],
   "source": [
    "import shapely\n",
    "\n",
    "print(shapely.ops.unary_union([list[0][2],list[2][2]]))\n",
    "shapely.ops.unary_union([list[0][2],list[2][2]])"
   ]
  },
  {
   "cell_type": "code",
   "execution_count": 171,
   "metadata": {},
   "outputs": [
    {
     "data": {
      "image/svg+xml": [
       "<svg xmlns=\"http://www.w3.org/2000/svg\" xmlns:xlink=\"http://www.w3.org/1999/xlink\" width=\"100.0\" height=\"100.0\" viewBox=\"-87.97729955315316 41.60683044684685 0.00106793513515413 0.0005335207207153303\" preserveAspectRatio=\"xMinYMin meet\"><g transform=\"matrix(1,0,0,-1,0,83.21419441441441)\"><path fill-rule=\"evenodd\" fill=\"#66cc99\" stroke=\"#555555\" stroke-width=\"2.13587027030826e-05\" opacity=\"0.6\" d=\"M -87.97726,41.60687 L -87.97726,41.607324414414414 L -87.97627117117116,41.607324414414414 L -87.97627117117116,41.60687 L -87.97726,41.60687 z\" /></g></svg>"
      ],
      "text/plain": [
       "<shapely.geometry.polygon.Polygon at 0x7faf5a002110>"
      ]
     },
     "execution_count": 171,
     "metadata": {},
     "output_type": "execute_result"
    }
   ],
   "source": [
    "list[0][2].union(list[1][2]).convex_hull"
   ]
  },
  {
   "cell_type": "code",
   "execution_count": 172,
   "metadata": {},
   "outputs": [
    {
     "name": "stdout",
     "output_type": "stream",
     "text": [
      "POLYGON ((-87.97676558558558 41.60687, -87.97726 41.60687, -87.97726 41.60732441441441, -87.97676558558558 41.60732441441441, -87.97627117117116 41.60732441441441, -87.97627117117116 41.60687, -87.97676558558558 41.60687))\n",
      "POLYGON ((-87.97726 41.60687, -87.97726 41.60732441441441, -87.97627117117116 41.60732441441441, -87.97627117117116 41.60687, -87.97726 41.60687))\n"
     ]
    }
   ],
   "source": [
    "print(list[0][2].union(list[1][2]))\n",
    "print(list[0][2].union(list[1][2]).convex_hull)"
   ]
  },
  {
   "cell_type": "code",
   "execution_count": 46,
   "metadata": {},
   "outputs": [],
   "source": [
    "gdf = gpd.GeoDataFrame(list, columns =['start_date','end_date', 'geometry', 'density', 'int_density'])"
   ]
  },
  {
   "cell_type": "code",
   "execution_count": 47,
   "metadata": {},
   "outputs": [
    {
     "data": {
      "text/html": [
       "<div>\n",
       "<style scoped>\n",
       "    .dataframe tbody tr th:only-of-type {\n",
       "        vertical-align: middle;\n",
       "    }\n",
       "\n",
       "    .dataframe tbody tr th {\n",
       "        vertical-align: top;\n",
       "    }\n",
       "\n",
       "    .dataframe thead th {\n",
       "        text-align: right;\n",
       "    }\n",
       "</style>\n",
       "<table border=\"1\" class=\"dataframe\">\n",
       "  <thead>\n",
       "    <tr style=\"text-align: right;\">\n",
       "      <th></th>\n",
       "      <th>minx</th>\n",
       "      <th>miny</th>\n",
       "      <th>maxx</th>\n",
       "      <th>maxy</th>\n",
       "    </tr>\n",
       "  </thead>\n",
       "  <tbody>\n",
       "    <tr>\n",
       "      <th>0</th>\n",
       "      <td>-87.977260</td>\n",
       "      <td>41.60687</td>\n",
       "      <td>-87.976766</td>\n",
       "      <td>41.607324</td>\n",
       "    </tr>\n",
       "    <tr>\n",
       "      <th>1</th>\n",
       "      <td>-87.976766</td>\n",
       "      <td>41.60687</td>\n",
       "      <td>-87.976271</td>\n",
       "      <td>41.607324</td>\n",
       "    </tr>\n",
       "    <tr>\n",
       "      <th>2</th>\n",
       "      <td>-87.976271</td>\n",
       "      <td>41.60687</td>\n",
       "      <td>-87.975777</td>\n",
       "      <td>41.607324</td>\n",
       "    </tr>\n",
       "    <tr>\n",
       "      <th>3</th>\n",
       "      <td>-87.975777</td>\n",
       "      <td>41.60687</td>\n",
       "      <td>-87.975282</td>\n",
       "      <td>41.607324</td>\n",
       "    </tr>\n",
       "    <tr>\n",
       "      <th>4</th>\n",
       "      <td>-87.975282</td>\n",
       "      <td>41.60687</td>\n",
       "      <td>-87.974788</td>\n",
       "      <td>41.607324</td>\n",
       "    </tr>\n",
       "    <tr>\n",
       "      <th>...</th>\n",
       "      <td>...</td>\n",
       "      <td>...</td>\n",
       "      <td>...</td>\n",
       "      <td>...</td>\n",
       "    </tr>\n",
       "    <tr>\n",
       "      <th>999995</th>\n",
       "      <td>-87.485318</td>\n",
       "      <td>42.06083</td>\n",
       "      <td>-87.484823</td>\n",
       "      <td>42.061284</td>\n",
       "    </tr>\n",
       "    <tr>\n",
       "      <th>999996</th>\n",
       "      <td>-87.484823</td>\n",
       "      <td>42.06083</td>\n",
       "      <td>-87.484329</td>\n",
       "      <td>42.061284</td>\n",
       "    </tr>\n",
       "    <tr>\n",
       "      <th>999997</th>\n",
       "      <td>-87.484329</td>\n",
       "      <td>42.06083</td>\n",
       "      <td>-87.483834</td>\n",
       "      <td>42.061284</td>\n",
       "    </tr>\n",
       "    <tr>\n",
       "      <th>999998</th>\n",
       "      <td>-87.483834</td>\n",
       "      <td>42.06083</td>\n",
       "      <td>-87.483340</td>\n",
       "      <td>42.061284</td>\n",
       "    </tr>\n",
       "    <tr>\n",
       "      <th>999999</th>\n",
       "      <td>-87.483340</td>\n",
       "      <td>42.06083</td>\n",
       "      <td>-87.482846</td>\n",
       "      <td>42.061284</td>\n",
       "    </tr>\n",
       "  </tbody>\n",
       "</table>\n",
       "<p>1000000 rows × 4 columns</p>\n",
       "</div>"
      ],
      "text/plain": [
       "             minx      miny       maxx       maxy\n",
       "0      -87.977260  41.60687 -87.976766  41.607324\n",
       "1      -87.976766  41.60687 -87.976271  41.607324\n",
       "2      -87.976271  41.60687 -87.975777  41.607324\n",
       "3      -87.975777  41.60687 -87.975282  41.607324\n",
       "4      -87.975282  41.60687 -87.974788  41.607324\n",
       "...           ...       ...        ...        ...\n",
       "999995 -87.485318  42.06083 -87.484823  42.061284\n",
       "999996 -87.484823  42.06083 -87.484329  42.061284\n",
       "999997 -87.484329  42.06083 -87.483834  42.061284\n",
       "999998 -87.483834  42.06083 -87.483340  42.061284\n",
       "999999 -87.483340  42.06083 -87.482846  42.061284\n",
       "\n",
       "[1000000 rows x 4 columns]"
      ]
     },
     "execution_count": 47,
     "metadata": {},
     "output_type": "execute_result"
    }
   ],
   "source": [
    "gdf.bounds"
   ]
  },
  {
   "cell_type": "code",
   "execution_count": 48,
   "metadata": {},
   "outputs": [
    {
     "data": {
      "text/plain": [
       "array([-87.97726   ,  41.60687   , -87.48284559,  42.06128441])"
      ]
     },
     "execution_count": 48,
     "metadata": {},
     "output_type": "execute_result"
    }
   ],
   "source": [
    "gdf.total_bounds"
   ]
  },
  {
   "cell_type": "code",
   "execution_count": 118,
   "metadata": {},
   "outputs": [],
   "source": [
    "xmin, ymin, xmax, ymax = (-87.97726, 41.60687, -87.48334, 42.06083)"
   ]
  },
  {
   "cell_type": "code",
   "execution_count": 49,
   "metadata": {},
   "outputs": [],
   "source": [
    "#xmin, ymin, xmax, ymax = gdf.total_bounds"
   ]
  },
  {
   "cell_type": "code",
   "execution_count": 119,
   "metadata": {},
   "outputs": [],
   "source": [
    "grid_size = 10\n",
    "xgrid = np.arange(xmin, xmax, (xmax-xmin)/grid_size)\n",
    "ygrid = np.arange(ymin, ymax, (ymax-ymin)/grid_size)"
   ]
  },
  {
   "cell_type": "code",
   "execution_count": 120,
   "metadata": {},
   "outputs": [
    {
     "name": "stdout",
     "output_type": "stream",
     "text": [
      "[-87.97726  -87.927868 -87.878476 -87.829084 -87.779692 -87.7303\n",
      " -87.680908 -87.631516 -87.582124 -87.532732] [41.60687  41.652266 41.697662 41.743058 41.788454 41.83385  41.879246\n",
      " 41.924642 41.970038 42.015434]\n"
     ]
    }
   ],
   "source": [
    "print(xgrid,ygrid)"
   ]
  },
  {
   "cell_type": "code",
   "execution_count": 121,
   "metadata": {},
   "outputs": [
    {
     "name": "stdout",
     "output_type": "stream",
     "text": [
      "1\n",
      "count rows within count10000\n",
      "-------------------------\n",
      "2\n",
      "count rows within count10100\n",
      "-------------------------\n",
      "3\n",
      "count rows within count10100\n",
      "-------------------------\n",
      "4\n",
      "count rows within count10100\n",
      "-------------------------\n",
      "5\n",
      "count rows within count10100\n",
      "-------------------------\n",
      "6\n",
      "count rows within count10100\n",
      "-------------------------\n",
      "7\n",
      "count rows within count10100\n",
      "-------------------------\n",
      "8\n",
      "count rows within count10100\n",
      "-------------------------\n",
      "9\n",
      "count rows within count10100\n",
      "-------------------------\n",
      "10\n",
      "count rows within count10000\n",
      "-------------------------\n",
      "11\n",
      "count rows within count10100\n",
      "-------------------------\n",
      "12\n",
      "count rows within count10201\n",
      "-------------------------\n",
      "13\n",
      "count rows within count10201\n",
      "-------------------------\n",
      "14\n",
      "count rows within count10201\n",
      "-------------------------\n",
      "15\n",
      "count rows within count10201\n",
      "-------------------------\n",
      "16\n",
      "count rows within count10201\n",
      "-------------------------\n",
      "17\n",
      "count rows within count10201\n",
      "-------------------------\n",
      "18\n",
      "count rows within count10201\n",
      "-------------------------\n",
      "19\n",
      "count rows within count10201\n",
      "-------------------------\n",
      "20\n",
      "count rows within count10100\n",
      "-------------------------\n",
      "21\n",
      "count rows within count10100\n",
      "-------------------------\n",
      "22\n",
      "count rows within count10201\n",
      "-------------------------\n",
      "23\n",
      "count rows within count10201\n",
      "-------------------------\n",
      "24\n",
      "count rows within count10201\n",
      "-------------------------\n",
      "25\n",
      "count rows within count10201\n",
      "-------------------------\n",
      "26\n",
      "count rows within count10201\n",
      "-------------------------\n",
      "27\n",
      "count rows within count10201\n",
      "-------------------------\n",
      "28\n",
      "count rows within count10201\n",
      "-------------------------\n",
      "29\n",
      "count rows within count10201\n",
      "-------------------------\n",
      "30\n",
      "count rows within count10100\n",
      "-------------------------\n",
      "31\n",
      "count rows within count10100\n",
      "-------------------------\n",
      "32\n",
      "count rows within count10201\n",
      "-------------------------\n",
      "33\n",
      "count rows within count10201\n",
      "-------------------------\n",
      "34\n",
      "count rows within count10201\n",
      "-------------------------\n",
      "35\n",
      "count rows within count10201\n",
      "-------------------------\n",
      "36\n",
      "count rows within count10201\n",
      "-------------------------\n",
      "37\n",
      "count rows within count10201\n",
      "-------------------------\n",
      "38\n",
      "count rows within count10201\n",
      "-------------------------\n",
      "39\n",
      "count rows within count10201\n",
      "-------------------------\n",
      "40\n",
      "count rows within count10100\n",
      "-------------------------\n",
      "41\n",
      "count rows within count10100\n",
      "-------------------------\n",
      "42\n",
      "count rows within count10201\n",
      "-------------------------\n",
      "43\n",
      "count rows within count10201\n",
      "-------------------------\n",
      "44\n",
      "count rows within count10201\n",
      "-------------------------\n",
      "45\n",
      "count rows within count10201\n",
      "-------------------------\n",
      "46\n",
      "count rows within count10201\n",
      "-------------------------\n",
      "47\n",
      "count rows within count10201\n",
      "-------------------------\n",
      "48\n",
      "count rows within count10201\n",
      "-------------------------\n",
      "49\n",
      "count rows within count10201\n",
      "-------------------------\n",
      "50\n",
      "count rows within count10100\n",
      "-------------------------\n",
      "51\n",
      "count rows within count10100\n",
      "-------------------------\n",
      "52\n",
      "count rows within count10201\n",
      "-------------------------\n",
      "53\n",
      "count rows within count10201\n",
      "-------------------------\n",
      "54\n",
      "count rows within count10201\n",
      "-------------------------\n",
      "55\n",
      "count rows within count10201\n",
      "-------------------------\n",
      "56\n",
      "count rows within count10201\n",
      "-------------------------\n",
      "57\n",
      "count rows within count10201\n",
      "-------------------------\n",
      "58\n",
      "count rows within count10201\n",
      "-------------------------\n",
      "59\n",
      "count rows within count10201\n",
      "-------------------------\n",
      "60\n",
      "count rows within count10100\n",
      "-------------------------\n",
      "61\n",
      "count rows within count10100\n",
      "-------------------------\n",
      "62\n",
      "count rows within count10201\n",
      "-------------------------\n",
      "63\n",
      "count rows within count10201\n",
      "-------------------------\n",
      "64\n",
      "count rows within count10201\n",
      "-------------------------\n",
      "65\n",
      "count rows within count10201\n",
      "-------------------------\n",
      "66\n",
      "count rows within count10201\n",
      "-------------------------\n",
      "67\n",
      "count rows within count10201\n",
      "-------------------------\n",
      "68\n",
      "count rows within count10201\n",
      "-------------------------\n",
      "69\n",
      "count rows within count10201\n",
      "-------------------------\n",
      "70\n",
      "count rows within count10100\n",
      "-------------------------\n",
      "71\n",
      "count rows within count10100\n",
      "-------------------------\n",
      "72\n",
      "count rows within count10201\n",
      "-------------------------\n",
      "73\n",
      "count rows within count10201\n",
      "-------------------------\n",
      "74\n",
      "count rows within count10201\n",
      "-------------------------\n",
      "75\n",
      "count rows within count10201\n",
      "-------------------------\n",
      "76\n",
      "count rows within count10201\n",
      "-------------------------\n",
      "77\n",
      "count rows within count10201\n",
      "-------------------------\n",
      "78\n",
      "count rows within count10201\n",
      "-------------------------\n",
      "79\n",
      "count rows within count10201\n",
      "-------------------------\n",
      "80\n",
      "count rows within count10100\n",
      "-------------------------\n",
      "81\n",
      "count rows within count10100\n",
      "-------------------------\n",
      "82\n",
      "count rows within count10201\n",
      "-------------------------\n",
      "83\n",
      "count rows within count10201\n",
      "-------------------------\n",
      "84\n",
      "count rows within count10201\n",
      "-------------------------\n",
      "85\n",
      "count rows within count10201\n",
      "-------------------------\n",
      "86\n",
      "count rows within count10201\n",
      "-------------------------\n",
      "87\n",
      "count rows within count10201\n",
      "-------------------------\n",
      "88\n",
      "count rows within count10201\n",
      "-------------------------\n",
      "89\n",
      "count rows within count10201\n",
      "-------------------------\n",
      "90\n",
      "count rows within count10100\n",
      "-------------------------\n",
      "91\n",
      "count rows within count10000\n",
      "-------------------------\n",
      "92\n",
      "count rows within count10100\n",
      "-------------------------\n",
      "93\n",
      "count rows within count10100\n",
      "-------------------------\n",
      "94\n",
      "count rows within count10100\n",
      "-------------------------\n",
      "95\n",
      "count rows within count10100\n",
      "-------------------------\n",
      "96\n",
      "count rows within count10100\n",
      "-------------------------\n",
      "97\n",
      "count rows within count10100\n",
      "-------------------------\n",
      "98\n",
      "count rows within count10100\n",
      "-------------------------\n",
      "99\n",
      "count rows within count10100\n",
      "-------------------------\n",
      "100\n",
      "count rows within count10000\n",
      "-------------------------\n"
     ]
    }
   ],
   "source": [
    "c = 0\n",
    "gdf[\"zone\"] = None\n",
    "for row in xgrid:\n",
    "    for col in ygrid:\n",
    "        boundbox = Polygon([[row,col],[row+(xmax-xmin)/grid_size,col],[row+(xmax-xmin)/grid_size,col+(ymax-ymin)/grid_size],[row,col+(ymax-ymin)/grid_size],[row,col]])\n",
    "        bb_df = gpd.GeoSeries(boundbox)\n",
    "        bool_within_bb = gdf.geometry.intersects(boundbox)\n",
    "        index_within_bb = gdf[bool_within_bb].index\n",
    "        gdf.iloc[index_within_bb,5] = c\n",
    "        c+=1\n",
    "        print(c)\n",
    "        print(\"count rows within count\" + str(len(index_within_bb)))\n",
    "        print(\"-\"*25)"
   ]
  },
  {
   "cell_type": "code",
   "execution_count": 53,
   "metadata": {},
   "outputs": [
    {
     "data": {
      "text/plain": [
       "0         False\n",
       "1         False\n",
       "2         False\n",
       "3         False\n",
       "4         False\n",
       "          ...  \n",
       "999995    False\n",
       "999996    False\n",
       "999997    False\n",
       "999998    False\n",
       "999999    False\n",
       "Name: zone, Length: 1000000, dtype: bool"
      ]
     },
     "execution_count": 53,
     "metadata": {},
     "output_type": "execute_result"
    }
   ],
   "source": [
    "gdf[\"zone\"].isnull()"
   ]
  },
  {
   "cell_type": "code",
   "execution_count": 54,
   "metadata": {},
   "outputs": [
    {
     "data": {
      "text/plain": [
       "start_date     0\n",
       "end_date       0\n",
       "geometry       0\n",
       "density        0\n",
       "int_density    0\n",
       "zone           0\n",
       "dtype: int64"
      ]
     },
     "execution_count": 54,
     "metadata": {},
     "output_type": "execute_result"
    }
   ],
   "source": [
    "gdf[gdf[\"zone\"].isnull()].count()"
   ]
  },
  {
   "cell_type": "code",
   "execution_count": 55,
   "metadata": {
    "scrolled": true
   },
   "outputs": [],
   "source": [
    "#c = 0\n",
    "#gdf[\"zone\"] = None\n",
    "#for row in xgrid:\n",
    "#    for col in ygrid:\n",
    "#        #print(row,col)\n",
    "#        current_index = gdf.cx[row:row+(xmax-xmin)/grid_size, col:col+(ymax-ymin)/grid_size].index\n",
    "#        gdf.iloc[current_index,5] = c\n",
    "#        c+=1"
   ]
  },
  {
   "cell_type": "code",
   "execution_count": 56,
   "metadata": {},
   "outputs": [
    {
     "data": {
      "text/plain": [
       "1000000"
      ]
     },
     "execution_count": 56,
     "metadata": {},
     "output_type": "execute_result"
    }
   ],
   "source": [
    "sum(gdf[\"zone\"].notna())"
   ]
  },
  {
   "cell_type": "code",
   "execution_count": 192,
   "metadata": {},
   "outputs": [
    {
     "data": {
      "text/html": [
       "<div>\n",
       "<style scoped>\n",
       "    .dataframe tbody tr th:only-of-type {\n",
       "        vertical-align: middle;\n",
       "    }\n",
       "\n",
       "    .dataframe tbody tr th {\n",
       "        vertical-align: top;\n",
       "    }\n",
       "\n",
       "    .dataframe thead th {\n",
       "        text-align: right;\n",
       "    }\n",
       "</style>\n",
       "<table border=\"1\" class=\"dataframe\">\n",
       "  <thead>\n",
       "    <tr style=\"text-align: right;\">\n",
       "      <th></th>\n",
       "      <th>start_date</th>\n",
       "      <th>end_date</th>\n",
       "      <th>geometry</th>\n",
       "      <th>density</th>\n",
       "      <th>int_density</th>\n",
       "      <th>zone</th>\n",
       "    </tr>\n",
       "  </thead>\n",
       "  <tbody>\n",
       "    <tr>\n",
       "      <th>0</th>\n",
       "      <td>2020-02-25 15:26:27</td>\n",
       "      <td>2020-03-26 15:07:10</td>\n",
       "      <td>POLYGON ((-87.97726 41.60687, -87.97677 41.606...</td>\n",
       "      <td>-7.368972e-17</td>\n",
       "      <td>0</td>\n",
       "      <td>0</td>\n",
       "    </tr>\n",
       "    <tr>\n",
       "      <th>1</th>\n",
       "      <td>2020-02-25 15:26:27</td>\n",
       "      <td>2020-03-26 15:07:10</td>\n",
       "      <td>POLYGON ((-87.97677 41.60687, -87.97627 41.606...</td>\n",
       "      <td>-7.069238e-17</td>\n",
       "      <td>0</td>\n",
       "      <td>0</td>\n",
       "    </tr>\n",
       "    <tr>\n",
       "      <th>2</th>\n",
       "      <td>2020-02-25 15:26:27</td>\n",
       "      <td>2020-03-26 15:07:10</td>\n",
       "      <td>POLYGON ((-87.97627 41.60687, -87.97578 41.606...</td>\n",
       "      <td>-7.553285e-17</td>\n",
       "      <td>0</td>\n",
       "      <td>0</td>\n",
       "    </tr>\n",
       "    <tr>\n",
       "      <th>3</th>\n",
       "      <td>2020-02-25 15:26:27</td>\n",
       "      <td>2020-03-26 15:07:10</td>\n",
       "      <td>POLYGON ((-87.97578 41.60687, -87.97528 41.606...</td>\n",
       "      <td>-7.229394e-17</td>\n",
       "      <td>0</td>\n",
       "      <td>0</td>\n",
       "    </tr>\n",
       "    <tr>\n",
       "      <th>4</th>\n",
       "      <td>2020-02-25 15:26:27</td>\n",
       "      <td>2020-03-26 15:07:10</td>\n",
       "      <td>POLYGON ((-87.97528 41.60687, -87.97479 41.606...</td>\n",
       "      <td>-7.495127e-17</td>\n",
       "      <td>0</td>\n",
       "      <td>0</td>\n",
       "    </tr>\n",
       "    <tr>\n",
       "      <th>...</th>\n",
       "      <td>...</td>\n",
       "      <td>...</td>\n",
       "      <td>...</td>\n",
       "      <td>...</td>\n",
       "      <td>...</td>\n",
       "      <td>...</td>\n",
       "    </tr>\n",
       "    <tr>\n",
       "      <th>998994</th>\n",
       "      <td>2020-02-25 15:26:27</td>\n",
       "      <td>2020-03-26 15:07:10</td>\n",
       "      <td>POLYGON ((-87.48581 42.06038, -87.48532 42.060...</td>\n",
       "      <td>7.646518e-16</td>\n",
       "      <td>0</td>\n",
       "      <td>99</td>\n",
       "    </tr>\n",
       "    <tr>\n",
       "      <th>998995</th>\n",
       "      <td>2020-02-25 15:26:27</td>\n",
       "      <td>2020-03-26 15:07:10</td>\n",
       "      <td>POLYGON ((-87.48532 42.06038, -87.48482 42.060...</td>\n",
       "      <td>7.625192e-16</td>\n",
       "      <td>0</td>\n",
       "      <td>99</td>\n",
       "    </tr>\n",
       "    <tr>\n",
       "      <th>998996</th>\n",
       "      <td>2020-02-25 15:26:27</td>\n",
       "      <td>2020-03-26 15:07:10</td>\n",
       "      <td>POLYGON ((-87.48482 42.06038, -87.48433 42.060...</td>\n",
       "      <td>7.614925e-16</td>\n",
       "      <td>0</td>\n",
       "      <td>99</td>\n",
       "    </tr>\n",
       "    <tr>\n",
       "      <th>998997</th>\n",
       "      <td>2020-02-25 15:26:27</td>\n",
       "      <td>2020-03-26 15:07:10</td>\n",
       "      <td>POLYGON ((-87.48433 42.06038, -87.48383 42.060...</td>\n",
       "      <td>7.631624e-16</td>\n",
       "      <td>0</td>\n",
       "      <td>99</td>\n",
       "    </tr>\n",
       "    <tr>\n",
       "      <th>998998</th>\n",
       "      <td>2020-02-25 15:26:27</td>\n",
       "      <td>2020-03-26 15:07:10</td>\n",
       "      <td>POLYGON ((-87.48383 42.06038, -87.48334 42.060...</td>\n",
       "      <td>7.639410e-16</td>\n",
       "      <td>0</td>\n",
       "      <td>99</td>\n",
       "    </tr>\n",
       "  </tbody>\n",
       "</table>\n",
       "<p>998001 rows × 6 columns</p>\n",
       "</div>"
      ],
      "text/plain": [
       "                 start_date             end_date  \\\n",
       "0       2020-02-25 15:26:27  2020-03-26 15:07:10   \n",
       "1       2020-02-25 15:26:27  2020-03-26 15:07:10   \n",
       "2       2020-02-25 15:26:27  2020-03-26 15:07:10   \n",
       "3       2020-02-25 15:26:27  2020-03-26 15:07:10   \n",
       "4       2020-02-25 15:26:27  2020-03-26 15:07:10   \n",
       "...                     ...                  ...   \n",
       "998994  2020-02-25 15:26:27  2020-03-26 15:07:10   \n",
       "998995  2020-02-25 15:26:27  2020-03-26 15:07:10   \n",
       "998996  2020-02-25 15:26:27  2020-03-26 15:07:10   \n",
       "998997  2020-02-25 15:26:27  2020-03-26 15:07:10   \n",
       "998998  2020-02-25 15:26:27  2020-03-26 15:07:10   \n",
       "\n",
       "                                                 geometry       density  \\\n",
       "0       POLYGON ((-87.97726 41.60687, -87.97677 41.606... -7.368972e-17   \n",
       "1       POLYGON ((-87.97677 41.60687, -87.97627 41.606... -7.069238e-17   \n",
       "2       POLYGON ((-87.97627 41.60687, -87.97578 41.606... -7.553285e-17   \n",
       "3       POLYGON ((-87.97578 41.60687, -87.97528 41.606... -7.229394e-17   \n",
       "4       POLYGON ((-87.97528 41.60687, -87.97479 41.606... -7.495127e-17   \n",
       "...                                                   ...           ...   \n",
       "998994  POLYGON ((-87.48581 42.06038, -87.48532 42.060...  7.646518e-16   \n",
       "998995  POLYGON ((-87.48532 42.06038, -87.48482 42.060...  7.625192e-16   \n",
       "998996  POLYGON ((-87.48482 42.06038, -87.48433 42.060...  7.614925e-16   \n",
       "998997  POLYGON ((-87.48433 42.06038, -87.48383 42.060...  7.631624e-16   \n",
       "998998  POLYGON ((-87.48383 42.06038, -87.48334 42.060...  7.639410e-16   \n",
       "\n",
       "        int_density zone  \n",
       "0                 0    0  \n",
       "1                 0    0  \n",
       "2                 0    0  \n",
       "3                 0    0  \n",
       "4                 0    0  \n",
       "...             ...  ...  \n",
       "998994            0   99  \n",
       "998995            0   99  \n",
       "998996            0   99  \n",
       "998997            0   99  \n",
       "998998            0   99  \n",
       "\n",
       "[998001 rows x 6 columns]"
      ]
     },
     "execution_count": 192,
     "metadata": {},
     "output_type": "execute_result"
    }
   ],
   "source": [
    "gdf[gdf[\"zone\"].notna()]"
   ]
  },
  {
   "cell_type": "code",
   "execution_count": 193,
   "metadata": {},
   "outputs": [],
   "source": [
    "gdf_dissolved = gdf.dissolve(by=['int_density','zone'])"
   ]
  },
  {
   "cell_type": "code",
   "execution_count": 194,
   "metadata": {},
   "outputs": [
    {
     "data": {
      "text/html": [
       "<div>\n",
       "<style scoped>\n",
       "    .dataframe tbody tr th:only-of-type {\n",
       "        vertical-align: middle;\n",
       "    }\n",
       "\n",
       "    .dataframe tbody tr th {\n",
       "        vertical-align: top;\n",
       "    }\n",
       "\n",
       "    .dataframe thead th {\n",
       "        text-align: right;\n",
       "    }\n",
       "</style>\n",
       "<table border=\"1\" class=\"dataframe\">\n",
       "  <thead>\n",
       "    <tr style=\"text-align: right;\">\n",
       "      <th></th>\n",
       "      <th></th>\n",
       "      <th>geometry</th>\n",
       "      <th>start_date</th>\n",
       "      <th>end_date</th>\n",
       "      <th>density</th>\n",
       "    </tr>\n",
       "    <tr>\n",
       "      <th>int_density</th>\n",
       "      <th>zone</th>\n",
       "      <th></th>\n",
       "      <th></th>\n",
       "      <th></th>\n",
       "      <th></th>\n",
       "    </tr>\n",
       "  </thead>\n",
       "  <tbody>\n",
       "    <tr>\n",
       "      <th>-4</th>\n",
       "      <th>67</th>\n",
       "      <td>POLYGON ((-87.64155 41.96813, -87.64205 41.968...</td>\n",
       "      <td>2020-02-25 15:26:27</td>\n",
       "      <td>2020-03-26 15:07:10</td>\n",
       "      <td>-30.081804</td>\n",
       "    </tr>\n",
       "    <tr>\n",
       "      <th>-3</th>\n",
       "      <th>67</th>\n",
       "      <td>MULTIPOLYGON (((-87.64205 41.96722, -87.64205 ...</td>\n",
       "      <td>2020-02-25 15:26:27</td>\n",
       "      <td>2020-03-26 15:07:10</td>\n",
       "      <td>-19.263462</td>\n",
       "    </tr>\n",
       "    <tr>\n",
       "      <th rowspan=\"3\" valign=\"top\">-2</th>\n",
       "      <th>58</th>\n",
       "      <td>POLYGON ((-87.72363 41.97722, -87.72313 41.977...</td>\n",
       "      <td>2020-02-25 15:26:27</td>\n",
       "      <td>2020-03-26 15:07:10</td>\n",
       "      <td>-13.831268</td>\n",
       "    </tr>\n",
       "    <tr>\n",
       "      <th>63</th>\n",
       "      <td>MULTIPOLYGON (((-87.64254 41.74547, -87.64304 ...</td>\n",
       "      <td>2020-02-25 15:26:27</td>\n",
       "      <td>2020-03-26 15:07:10</td>\n",
       "      <td>-14.530622</td>\n",
       "    </tr>\n",
       "    <tr>\n",
       "      <th>67</th>\n",
       "      <td>MULTIPOLYGON (((-87.64155 41.96177, -87.64205 ...</td>\n",
       "      <td>2020-02-25 15:26:27</td>\n",
       "      <td>2020-03-26 15:07:10</td>\n",
       "      <td>-13.379703</td>\n",
       "    </tr>\n",
       "    <tr>\n",
       "      <th>...</th>\n",
       "      <th>...</th>\n",
       "      <td>...</td>\n",
       "      <td>...</td>\n",
       "      <td>...</td>\n",
       "      <td>...</td>\n",
       "    </tr>\n",
       "    <tr>\n",
       "      <th>39</th>\n",
       "      <th>53</th>\n",
       "      <td>MULTIPOLYGON (((-87.72264 41.74592, -87.72264 ...</td>\n",
       "      <td>2020-02-25 15:26:27</td>\n",
       "      <td>2020-03-26 15:07:10</td>\n",
       "      <td>243.392242</td>\n",
       "    </tr>\n",
       "    <tr>\n",
       "      <th>40</th>\n",
       "      <th>53</th>\n",
       "      <td>POLYGON ((-87.72264 41.74683, -87.72214 41.746...</td>\n",
       "      <td>2020-02-25 15:26:27</td>\n",
       "      <td>2020-03-26 15:07:10</td>\n",
       "      <td>248.199371</td>\n",
       "    </tr>\n",
       "    <tr>\n",
       "      <th>41</th>\n",
       "      <th>53</th>\n",
       "      <td>MULTIPOLYGON (((-87.72214 41.74547, -87.72165 ...</td>\n",
       "      <td>2020-02-25 15:26:27</td>\n",
       "      <td>2020-03-26 15:07:10</td>\n",
       "      <td>252.343231</td>\n",
       "    </tr>\n",
       "    <tr>\n",
       "      <th>43</th>\n",
       "      <th>53</th>\n",
       "      <td>MULTIPOLYGON (((-87.72214 41.74592, -87.72165 ...</td>\n",
       "      <td>2020-02-25 15:26:27</td>\n",
       "      <td>2020-03-26 15:07:10</td>\n",
       "      <td>265.838867</td>\n",
       "    </tr>\n",
       "    <tr>\n",
       "      <th>45</th>\n",
       "      <th>53</th>\n",
       "      <td>POLYGON ((-87.72214 41.74638, -87.72165 41.746...</td>\n",
       "      <td>2020-02-25 15:26:27</td>\n",
       "      <td>2020-03-26 15:07:10</td>\n",
       "      <td>277.642700</td>\n",
       "    </tr>\n",
       "  </tbody>\n",
       "</table>\n",
       "<p>376 rows × 4 columns</p>\n",
       "</div>"
      ],
      "text/plain": [
       "                                                           geometry  \\\n",
       "int_density zone                                                      \n",
       "-4          67    POLYGON ((-87.64155 41.96813, -87.64205 41.968...   \n",
       "-3          67    MULTIPOLYGON (((-87.64205 41.96722, -87.64205 ...   \n",
       "-2          58    POLYGON ((-87.72363 41.97722, -87.72313 41.977...   \n",
       "            63    MULTIPOLYGON (((-87.64254 41.74547, -87.64304 ...   \n",
       "            67    MULTIPOLYGON (((-87.64155 41.96177, -87.64205 ...   \n",
       "...                                                             ...   \n",
       " 39         53    MULTIPOLYGON (((-87.72264 41.74592, -87.72264 ...   \n",
       " 40         53    POLYGON ((-87.72264 41.74683, -87.72214 41.746...   \n",
       " 41         53    MULTIPOLYGON (((-87.72214 41.74547, -87.72165 ...   \n",
       " 43         53    MULTIPOLYGON (((-87.72214 41.74592, -87.72165 ...   \n",
       " 45         53    POLYGON ((-87.72214 41.74638, -87.72165 41.746...   \n",
       "\n",
       "                           start_date             end_date     density  \n",
       "int_density zone                                                        \n",
       "-4          67    2020-02-25 15:26:27  2020-03-26 15:07:10  -30.081804  \n",
       "-3          67    2020-02-25 15:26:27  2020-03-26 15:07:10  -19.263462  \n",
       "-2          58    2020-02-25 15:26:27  2020-03-26 15:07:10  -13.831268  \n",
       "            63    2020-02-25 15:26:27  2020-03-26 15:07:10  -14.530622  \n",
       "            67    2020-02-25 15:26:27  2020-03-26 15:07:10  -13.379703  \n",
       "...                               ...                  ...         ...  \n",
       " 39         53    2020-02-25 15:26:27  2020-03-26 15:07:10  243.392242  \n",
       " 40         53    2020-02-25 15:26:27  2020-03-26 15:07:10  248.199371  \n",
       " 41         53    2020-02-25 15:26:27  2020-03-26 15:07:10  252.343231  \n",
       " 43         53    2020-02-25 15:26:27  2020-03-26 15:07:10  265.838867  \n",
       " 45         53    2020-02-25 15:26:27  2020-03-26 15:07:10  277.642700  \n",
       "\n",
       "[376 rows x 4 columns]"
      ]
     },
     "execution_count": 194,
     "metadata": {},
     "output_type": "execute_result"
    }
   ],
   "source": [
    "gdf_dissolved"
   ]
  },
  {
   "cell_type": "code",
   "execution_count": 217,
   "metadata": {},
   "outputs": [],
   "source": [
    "gdf_dissolved['geometry'] = gdf_dissolved['geometry'].simplify(0)"
   ]
  },
  {
   "cell_type": "code",
   "execution_count": 219,
   "metadata": {
    "scrolled": false
   },
   "outputs": [
    {
     "data": {
      "text/plain": [
       "<matplotlib.axes._subplots.AxesSubplot at 0x7faf59c9d4d0>"
      ]
     },
     "execution_count": 219,
     "metadata": {},
     "output_type": "execute_result"
    },
    {
     "data": {
      "image/png": "[encoded data removed]",
      "text/plain": [
       "<Figure size 720x720 with 1 Axes>"
      ]
     },
     "metadata": {
      "needs_background": "light"
     },
     "output_type": "display_data"
    }
   ],
   "source": [
    "gdf_dissolved[[\"geometry\",\"density\"]].plot(column='density',figsize=(10,10))"
   ]
  },
  {
   "cell_type": "code",
   "execution_count": 221,
   "metadata": {},
   "outputs": [],
   "source": [
    "import dill\n",
    "f = open(CSV_PATH +'gdf_dissolved_2020.pkl', \"wb\")\n",
    "dill.dump(gdf_dissolved, file=f)\n",
    "f.close()"
   ]
  },
  {
   "cell_type": "code",
   "execution_count": null,
   "metadata": {},
   "outputs": [],
   "source": [
    "gdf_dissolved.to_file(\"2017-11-11_4_test.geojson\", driver='GeoJSON')"
   ]
  },
  {
   "cell_type": "code",
   "execution_count": null,
   "metadata": {},
   "outputs": [],
   "source": []
  }
 ],
 "metadata": {
  "kernelspec": {
   "display_name": "Python [conda env:venv]",
   "language": "python",
   "name": "conda-env-venv-py"
  },
  "language_info": {
   "codemirror_mode": {
    "name": "ipython",
    "version": 3
   },
   "file_extension": ".py",
   "mimetype": "text/x-python",
   "name": "python",
   "nbconvert_exporter": "python",
   "pygments_lexer": "ipython3",
   "version": "3.7.6"
  }
 },
 "nbformat": 4,
 "nbformat_minor": 2
}
